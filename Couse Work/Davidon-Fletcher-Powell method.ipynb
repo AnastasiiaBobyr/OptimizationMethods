{
 "cells": [
  {
   "cell_type": "code",
   "execution_count": 1,
   "metadata": {},
   "outputs": [],
   "source": [
    "import numpy as np\n",
    "from onedimsearch import svenn\n",
    "from onedimsearch import golden_ratio\n",
    "from onedimsearch import dsk_powell\n",
    "from dfp_optimization import dfp"
   ]
  },
  {
   "cell_type": "markdown",
   "metadata": {},
   "source": [
    "# Global functions of the optimization algorithm"
   ]
  },
  {
   "cell_type": "code",
   "execution_count": 2,
   "metadata": {},
   "outputs": [],
   "source": [
    "#initial point\n",
    "x0 = [-1.2, 0]\n",
    "\n",
    "def f(x):\n",
    "    global f_computation\n",
    "    f_computation += 1\n",
    "    return (10 * (x[0] - x[1]) ** 2 + (x[0] - 1) ** 2) ** (1 / 4)\n",
    "\n",
    "R = 0\n",
    "#restriction g(x) - tbd below\n",
    "\n",
    "def P(x):\n",
    "    return f(x) + R * (g(x) ** 2)\n",
    "\n",
    "def one_dim(p, a, b, x, S, epsilon_onedim):\n",
    "    global goldenratio, dskpowell\n",
    "    if goldenratio: return golden_ratio(P, a, b, x, S, epsilon_onedim)\n",
    "    elif dskpowell: return dsk_powell(P, a, b, x, S, epsilon_onedim)\n",
    "\n",
    "def grad_f(t):\n",
    "    global central, left, right\n",
    "    if right:\n",
    "        ft = P([t[0], t[1]])\n",
    "        t1 = (P([t[0] + h, t[1]]) - ft) / h\n",
    "        t2 = (P([t[0], t[1] + h]) - ft) / h\n",
    "    elif left:\n",
    "        ft = P([t[0], t[1]])\n",
    "        t1 = ( - P([t[0] - h, t[1]]) + ft) / h\n",
    "        t2 = ( - P([t[0], t[1] - h]) + ft) / h\n",
    "    elif central:\n",
    "        t1 = (P([t[0] + h, t[1]]) - P([t[0] - h, t[1]])) / (2 * h)\n",
    "        t2 = (P([t[0], t[1] + h]) - P([t[0], t[1] - h])) / (2 * h)\n",
    "    return np.array([t1, t2])"
   ]
  },
  {
   "cell_type": "markdown",
   "metadata": {},
   "source": [
    "# Unconditional optimization"
   ]
  },
  {
   "cell_type": "code",
   "execution_count": 3,
   "metadata": {},
   "outputs": [],
   "source": [
    "def g(x):\n",
    "    return 0"
   ]
  },
  {
   "cell_type": "markdown",
   "metadata": {},
   "source": [
    "### Area of variable parameters "
   ]
  },
  {
   "cell_type": "code",
   "execution_count": 4,
   "metadata": {},
   "outputs": [],
   "source": [
    "#initializing count of the function's computations\n",
    "f_computation = 0\n",
    "\n",
    "#criterion of convergence accuracy\n",
    "epsilon_gen = 0.0001\n",
    "\n",
    "#step of the derivative 0.001 - 0.00001\n",
    "h = 0.001\n",
    "\n",
    "#type of derivative \n",
    "right = True\n",
    "left = False\n",
    "central = False\n",
    "\n",
    "#Method of one-dim search\n",
    "goldenratio = False\n",
    "dskpowell = True\n",
    "\n",
    "#onedim algorithm accuracy 0.1 - 0.00001\n",
    "epsilon_onedim = 0.0001\n",
    "\n",
    "#parameter in Svenn's algorithm to calculate delta lambda \n",
    "svenn_param = 0.1"
   ]
  },
  {
   "cell_type": "markdown",
   "metadata": {},
   "source": [
    "### Finding the point of minimum"
   ]
  },
  {
   "cell_type": "code",
   "execution_count": 5,
   "metadata": {
    "scrolled": false
   },
   "outputs": [
    {
     "name": "stdout",
     "output_type": "stream",
     "text": [
      "( 0.999902278114691 ; 0.999841951961093 )\n"
     ]
    }
   ],
   "source": [
    "rezult = dfp(x0, P, epsilon_gen, h, grad_f, one_dim, epsilon_onedim, svenn_param)\n",
    "print(\"(\", np.round(rezult[0],15), \";\", np.round(rezult[1],15), \")\")"
   ]
  },
  {
   "cell_type": "code",
   "execution_count": 6,
   "metadata": {},
   "outputs": [
    {
     "data": {
      "text/plain": [
       "242"
      ]
     },
     "execution_count": 6,
     "metadata": {},
     "output_type": "execute_result"
    }
   ],
   "source": [
    "#count of the fuction's computations\n",
    "f_computation"
   ]
  },
  {
   "cell_type": "markdown",
   "metadata": {},
   "source": [
    "# Conditional optimization. Method of external penalties"
   ]
  },
  {
   "cell_type": "code",
   "execution_count": 7,
   "metadata": {},
   "outputs": [],
   "source": [
    "def g(x):\n",
    "    return ( - x[0] ** 2 - x[1])\n",
    "\n",
    "\n",
    "def check(x):\n",
    "    if g(x) >= 0: return 0\n",
    "    else: \n",
    "        if R == 0: return 1\n",
    "        else: return R * 10\n",
    "\n",
    "#initializing count of the function's computations\n",
    "f_computation = 0"
   ]
  },
  {
   "cell_type": "code",
   "execution_count": 8,
   "metadata": {},
   "outputs": [
    {
     "name": "stdout",
     "output_type": "stream",
     "text": [
      "( 0.076426 ; -0.005623 )\n"
     ]
    }
   ],
   "source": [
    "R = check(x0)\n",
    "x_array = np.array([dfp(x0, P, epsilon_gen, h, grad_f, one_dim, epsilon_onedim, svenn_param)])\n",
    "f_R_array = np.array(f(x_array[0]))\n",
    "\n",
    "R = check(x_array[0])\n",
    "x_array = np.append(x_array, [dfp(x_array[0], P, epsilon_gen, h, grad_f, one_dim, epsilon_onedim, svenn_param)], axis=0)\n",
    "f_R_array = np.append(f_R_array, f(x_array[1]))\n",
    "\n",
    "i = 0\n",
    "while abs(f_R_array[i + 1] - f_R_array[i]) >= 0.001:\n",
    "    R = check(x_array[i + 1])\n",
    "    x_array = np.append(x_array, [dfp(x_array[i + 1], P, epsilon_gen, h, grad_f, one_dim, epsilon_onedim, svenn_param)], axis=0)\n",
    "    f_R_array = np.append(f_R_array, f(x_array[i + 2]))\n",
    "    i += 1\n",
    "    \n",
    "print(\"(\", np.round(x_array[-1][0],6), \";\", np.round(x_array[-1][1],6), \")\")"
   ]
  },
  {
   "cell_type": "code",
   "execution_count": 9,
   "metadata": {},
   "outputs": [
    {
     "data": {
      "text/plain": [
       "360"
      ]
     },
     "execution_count": 9,
     "metadata": {},
     "output_type": "execute_result"
    }
   ],
   "source": [
    "f_computation"
   ]
  },
  {
   "cell_type": "code",
   "execution_count": null,
   "metadata": {},
   "outputs": [],
   "source": []
  }
 ],
 "metadata": {
  "kernelspec": {
   "display_name": "Python 3",
   "language": "python",
   "name": "python3"
  },
  "language_info": {
   "codemirror_mode": {
    "name": "ipython",
    "version": 3
   },
   "file_extension": ".py",
   "mimetype": "text/x-python",
   "name": "python",
   "nbconvert_exporter": "python",
   "pygments_lexer": "ipython3",
   "version": "3.6.4"
  }
 },
 "nbformat": 4,
 "nbformat_minor": 2
}
