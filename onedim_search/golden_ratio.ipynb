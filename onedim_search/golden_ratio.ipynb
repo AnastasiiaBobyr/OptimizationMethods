{
 "cells": [
  {
   "cell_type": "markdown",
   "metadata": {},
   "source": [
    "# Этап уменьшения интервала. Метод золотого сечения"
   ]
  },
  {
   "cell_type": "code",
   "execution_count": 15,
   "metadata": {},
   "outputs": [
    {
     "name": "stdout",
     "output_type": "stream",
     "text": [
      "3.0112 4.0\n",
      "3.0112 3.6222784\n",
      "3.2446319488 3.6222784\n",
      "3.3888 3.6222784\n",
      "3.3888 3.5330896512\n"
     ]
    }
   ],
   "source": [
    "def f(t):\n",
    "    return t ** 2 - 7 * t\n",
    "\n",
    "\n",
    "# Uncertainty interval was given at the previous step and has the left bound as \"a\" and the right bound as \"b\".\n",
    "a = 2.4\n",
    "b = 4.0\n",
    "epsilon = 0.2\n",
    "\n",
    "L = b - a\n",
    "x1 = a + 0.382 * L\n",
    "x2 = a + 0.618 * L\n",
    "    \n",
    "while L > epsilon:\n",
    "    if f(x1) <= f(x2):\n",
    "        a = a\n",
    "        b = x2\n",
    "        L = b - a\n",
    "        x2 = x1\n",
    "        x1 = a + 0.382 * L\n",
    "    elif f(x1) >= f(x2):\n",
    "        a = x1\n",
    "        b = b\n",
    "        L = b - a\n",
    "        x1 = x2\n",
    "        x2 = a + 0.618 * L\n",
    "    print(a, b)"
   ]
  },
  {
   "cell_type": "code",
   "execution_count": 16,
   "metadata": {},
   "outputs": [
    {
     "data": {
      "text/plain": [
       "3.39"
      ]
     },
     "execution_count": 16,
     "metadata": {},
     "output_type": "execute_result"
    }
   ],
   "source": [
    "round(a,2)"
   ]
  },
  {
   "cell_type": "code",
   "execution_count": 17,
   "metadata": {},
   "outputs": [
    {
     "data": {
      "text/plain": [
       "3.53"
      ]
     },
     "execution_count": 17,
     "metadata": {},
     "output_type": "execute_result"
    }
   ],
   "source": [
    "round(b,2)"
   ]
  },
  {
   "cell_type": "code",
   "execution_count": 18,
   "metadata": {},
   "outputs": [
    {
     "data": {
      "text/plain": [
       "0.14428965120000026"
      ]
     },
     "execution_count": 18,
     "metadata": {},
     "output_type": "execute_result"
    }
   ],
   "source": [
    "L\n"
   ]
  },
  {
   "cell_type": "code",
   "execution_count": null,
   "metadata": {
    "collapsed": true
   },
   "outputs": [],
   "source": []
  }
 ],
 "metadata": {
  "kernelspec": {
   "display_name": "Python 3",
   "language": "python",
   "name": "python3"
  },
  "language_info": {
   "codemirror_mode": {
    "name": "ipython",
    "version": 3
   },
   "file_extension": ".py",
   "mimetype": "text/x-python",
   "name": "python",
   "nbconvert_exporter": "python",
   "pygments_lexer": "ipython3",
   "version": "3.6.4"
  }
 },
 "nbformat": 4,
 "nbformat_minor": 2
}
