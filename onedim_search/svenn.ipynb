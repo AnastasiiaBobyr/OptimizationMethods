{
 "cells": [
  {
   "cell_type": "markdown",
   "metadata": {},
   "source": [
    "## Этап установления границ интервалов. Метод Свенна\n"
   ]
  },
  {
   "cell_type": "code",
   "execution_count": null,
   "metadata": {
    "collapsed": true
   },
   "outputs": [],
   "source": []
  },
  {
   "cell_type": "markdown",
   "metadata": {},
   "source": [
    "Var.7\n",
    "a = 9\n",
    "x0 = 5.7"
   ]
  },
  {
   "cell_type": "code",
   "execution_count": 2,
   "metadata": {},
   "outputs": [
    {
     "name": "stdout",
     "output_type": "stream",
     "text": [
      "2\n"
     ]
    },
    {
     "data": {
      "text/plain": [
       "[5.7, 5.6000000000000005, 5.4, 5.0, 4.2, 2.6, 3.4000000000000004]"
      ]
     },
     "execution_count": 2,
     "metadata": {},
     "output_type": "execute_result"
    }
   ],
   "source": [
    "import numpy as np\n",
    "\n",
    "def f(t):\n",
    "    return t ** 2 - 9 * t\n",
    "\n",
    "x = [5.7]\n",
    "\n",
    "delta = 0.1\n",
    "\n",
    "if f(x[0] - delta) >= f(x[0]) >= f(x[0] + delta):\n",
    "    delta = delta\n",
    "    x.append(x[0] + delta)\n",
    "    print('1')\n",
    "\n",
    "elif f(x[0] - delta) <= f(x[0]) <= f(x[0] + delta):\n",
    "    delta = - delta\n",
    "    x.append(x[0] + delta)\n",
    "    print('2')\n",
    "\n",
    "\n",
    "elif f(x[0] - delta) >= f(x[0]) <= f(x[0] + delta):\n",
    "    a = x[0] - delta\n",
    "    b = x[0] + delta\n",
    "    #break\n",
    "    print('3')\n",
    "\n",
    "else:\n",
    "    print('Function is not unimodal')\n",
    "\n",
    "i = 1\n",
    "while f(x[i]) <= f(x[i - 1]):\n",
    "    x.append(x[i] + (2 ** i) * delta)\n",
    "    i += 1\n",
    "\n",
    "x.append(x[i - 1] + (x[i] - x[i - 1]) / 2)\n",
    "x"
   ]
  },
  {
   "cell_type": "code",
   "execution_count": 3,
   "metadata": {},
   "outputs": [
    {
     "data": {
      "text/plain": [
       "[2.6, 3.4, 4.2, 5.0, 5.4, 5.6, 5.7]"
      ]
     },
     "execution_count": 3,
     "metadata": {},
     "output_type": "execute_result"
    }
   ],
   "source": [
    "x.sort()\n",
    "x = [round(i, 1) for i in x]\n",
    "x"
   ]
  },
  {
   "cell_type": "code",
   "execution_count": 4,
   "metadata": {},
   "outputs": [],
   "source": [
    "values = list(map(f, x))\n",
    "m = min(values)\n",
    "a = x[values.index(m) - 1]\n",
    "b = x[values.index(m) + 1]"
   ]
  },
  {
   "cell_type": "code",
   "execution_count": 5,
   "metadata": {},
   "outputs": [
    {
     "name": "stdout",
     "output_type": "stream",
     "text": [
      "Uncertainty interval: [ 3.4 ; 5.0 ]\n"
     ]
    }
   ],
   "source": [
    "print('Uncertainty interval: [' ,a,';' ,b, ']')"
   ]
  },
  {
   "cell_type": "code",
   "execution_count": null,
   "metadata": {
    "collapsed": true
   },
   "outputs": [],
   "source": []
  }
 ],
 "metadata": {
  "kernelspec": {
   "display_name": "Python 3",
   "language": "python",
   "name": "python3"
  },
  "language_info": {
   "codemirror_mode": {
    "name": "ipython",
    "version": 3
   },
   "file_extension": ".py",
   "mimetype": "text/x-python",
   "name": "python",
   "nbconvert_exporter": "python",
   "pygments_lexer": "ipython3",
   "version": "3.6.4"
  }
 },
 "nbformat": 4,
 "nbformat_minor": 2
}
