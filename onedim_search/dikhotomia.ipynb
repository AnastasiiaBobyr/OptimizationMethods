{
 "cells": [
  {
   "cell_type": "markdown",
   "metadata": {},
   "source": [
    "## Этап уменьшения интервала. Метод дихотомии"
   ]
  },
  {
   "cell_type": "code",
   "execution_count": 9,
   "metadata": {},
   "outputs": [
    {
     "name": "stdout",
     "output_type": "stream",
     "text": [
      "1.6\n",
      "0.7999999999999998\n",
      "0.39999999999999947\n",
      "0.1999999999999993\n"
     ]
    }
   ],
   "source": [
    "def f(t):\n",
    "    return t ** 2 - 9 * t\n",
    "\n",
    "\n",
    "# Uncertainty interval was given at the previous step and has the left bound as \"a\" and the right bound as \"b\".\n",
    "a = 3.4\n",
    "b = 5.0\n",
    "epsilon = 0.2\n",
    "\n",
    "xm = (b + a) / 2\n",
    "L = b - a\n",
    "print(L)\n",
    "\n",
    "while L > epsilon:\n",
    "    x1 = a + L / 4\n",
    "    x2 = b - L / 4\n",
    "    if f(x1) <= f(xm):\n",
    "        b = xm\n",
    "        xm = x1\n",
    "\n",
    "    elif f(x1) >= f(xm):\n",
    "        if f(x2) <= f(xm):\n",
    "            a = xm\n",
    "            xm = x2\n",
    "        elif f(x2) >= f(xm):\n",
    "            a = x1\n",
    "            b = x2\n",
    "    L = b - a\n",
    "    print(L)"
   ]
  },
  {
   "cell_type": "code",
   "execution_count": 10,
   "metadata": {},
   "outputs": [
    {
     "data": {
      "text/plain": [
       "4.4"
      ]
     },
     "execution_count": 10,
     "metadata": {},
     "output_type": "execute_result"
    }
   ],
   "source": [
    "a"
   ]
  },
  {
   "cell_type": "code",
   "execution_count": 11,
   "metadata": {},
   "outputs": [
    {
     "data": {
      "text/plain": [
       "4.6"
      ]
     },
     "execution_count": 11,
     "metadata": {},
     "output_type": "execute_result"
    }
   ],
   "source": [
    "b"
   ]
  },
  {
   "cell_type": "code",
   "execution_count": null,
   "metadata": {
    "collapsed": true
   },
   "outputs": [],
   "source": []
  }
 ],
 "metadata": {
  "kernelspec": {
   "display_name": "Python 3",
   "language": "python",
   "name": "python3"
  },
  "language_info": {
   "codemirror_mode": {
    "name": "ipython",
    "version": 3
   },
   "file_extension": ".py",
   "mimetype": "text/x-python",
   "name": "python",
   "nbconvert_exporter": "python",
   "pygments_lexer": "ipython3",
   "version": "3.6.4"
  }
 },
 "nbformat": 4,
 "nbformat_minor": 2
}
