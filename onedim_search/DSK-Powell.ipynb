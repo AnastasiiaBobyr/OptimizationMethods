{
 "cells": [
  {
   "cell_type": "markdown",
   "metadata": {},
   "source": [
    "## 1. Этап установления границ интервалов. Метод Свенна\n"
   ]
  },
  {
   "cell_type": "code",
   "execution_count": 1,
   "metadata": {},
   "outputs": [
    {
     "name": "stdout",
     "output_type": "stream",
     "text": [
      "2\n"
     ]
    }
   ],
   "source": [
    "def f(t):\n",
    "    return t ** 2 - 9 * t\n",
    "\n",
    "x = [5.7]\n",
    "delta = 0.1\n",
    "epsilon = 0.01\n",
    "\n",
    "if f(x[0] - delta) >= f(x[0]) >= f(x[0] + delta):\n",
    "    delta = delta\n",
    "    x.append(x[0] + delta)\n",
    "    print('1')\n",
    "\n",
    "elif f(x[0] - delta) <= f(x[0]) <= f(x[0] + delta):\n",
    "    delta = - delta\n",
    "    x.append(x[0] + delta)\n",
    "    print('2')\n",
    "\n",
    "\n",
    "elif f(x[0] - delta) >= f(x[0]) <= f(x[0] + delta):\n",
    "    a = x[0] - delta\n",
    "    b = x[0] + delta\n",
    "    #break\n",
    "    print('3')\n",
    "\n",
    "else:\n",
    "    print('Function is not unimodal')\n",
    "\n",
    "i = 1\n",
    "while f(x[i]) <= f(x[i - 1]):\n",
    "    x.append(x[i] + (2 ** i) * delta)\n",
    "    i += 1\n",
    "\n",
    "x.append(x[i - 1] + (x[i] - x[i - 1]) / 2)\n"
   ]
  },
  {
   "cell_type": "code",
   "execution_count": 2,
   "metadata": {},
   "outputs": [
    {
     "data": {
      "text/plain": [
       "[2.6, 3.4, 4.2, 5.0, 5.4, 5.6, 5.7]"
      ]
     },
     "execution_count": 2,
     "metadata": {},
     "output_type": "execute_result"
    }
   ],
   "source": [
    "x.sort()\n",
    "x = [round(i, 1) for i in x]\n",
    "x"
   ]
  },
  {
   "cell_type": "code",
   "execution_count": 3,
   "metadata": {
    "collapsed": true
   },
   "outputs": [],
   "source": [
    "values = list(map(f, x))\n",
    "m = min(values)\n",
    "a = x[values.index(m) - 1]\n",
    "b = x[values.index(m) + 1]"
   ]
  },
  {
   "cell_type": "code",
   "execution_count": 36,
   "metadata": {},
   "outputs": [
    {
     "name": "stdout",
     "output_type": "stream",
     "text": [
      "Uncertainty interval: [ 3.4 ; 5.0 ]\n"
     ]
    }
   ],
   "source": [
    "print('Uncertainty interval: [', a, ';', b, ']')"
   ]
  },
  {
   "cell_type": "markdown",
   "metadata": {
    "collapsed": true
   },
   "source": [
    "## 2. Метод ДСК-Пауэлла (возможно, требует доработки)"
   ]
  },
  {
   "cell_type": "code",
   "execution_count": 155,
   "metadata": {
    "collapsed": true
   },
   "outputs": [],
   "source": [
    "x1 = a\n",
    "x2 = (a + b) / 2\n",
    "x3 = b\n",
    "x_star = x1  # just for getting rid of do...while loop"
   ]
  },
  {
   "cell_type": "code",
   "execution_count": 156,
   "metadata": {},
   "outputs": [
    {
     "data": {
      "text/plain": [
       "3.4"
      ]
     },
     "execution_count": 156,
     "metadata": {},
     "output_type": "execute_result"
    }
   ],
   "source": [
    "x1"
   ]
  },
  {
   "cell_type": "code",
   "execution_count": 157,
   "metadata": {},
   "outputs": [
    {
     "data": {
      "text/plain": [
       "4.2"
      ]
     },
     "execution_count": 157,
     "metadata": {},
     "output_type": "execute_result"
    }
   ],
   "source": [
    "x2"
   ]
  },
  {
   "cell_type": "code",
   "execution_count": 158,
   "metadata": {},
   "outputs": [
    {
     "data": {
      "text/plain": [
       "5.0"
      ]
     },
     "execution_count": 158,
     "metadata": {},
     "output_type": "execute_result"
    }
   ],
   "source": [
    "x3"
   ]
  },
  {
   "cell_type": "code",
   "execution_count": 159,
   "metadata": {
    "scrolled": true
   },
   "outputs": [
    {
     "data": {
      "text/plain": [
       "3.4"
      ]
     },
     "execution_count": 159,
     "metadata": {},
     "output_type": "execute_result"
    }
   ],
   "source": [
    "x_star"
   ]
  },
  {
   "cell_type": "code",
   "execution_count": 160,
   "metadata": {},
   "outputs": [
    {
     "name": "stdout",
     "output_type": "stream",
     "text": [
      "[3.4, 4.2, 4.499999999999998, 5.0]\n",
      "[-19.04, -20.160000000000004, -20.25, -20.0]\n"
     ]
    }
   ],
   "source": [
    "x_star = x2 + (abs(x2 - x1) * (f(x1) - f(x3))) / (2 * (f(x1) - 2 * f(x2) + f(x3)))\n",
    "\n",
    "# do we have to build a new interval after this iteration? such as [x1; x3]. if not, delete the following rows\n",
    "x = [x1, x2, x_star, x3]\n",
    "x.sort()\n",
    "values = list(map(f, x))\n",
    "print(x)\n",
    "print(values)\n",
    "m = min(values)\n",
    "x1 = x[values.index(m) - 1]\n",
    "x2 = x[values.index(m)]\n",
    "x3 = x[values.index(m) + 1]"
   ]
  },
  {
   "cell_type": "code",
   "execution_count": 161,
   "metadata": {},
   "outputs": [
    {
     "data": {
      "text/plain": [
       "4.499999999999998"
      ]
     },
     "execution_count": 161,
     "metadata": {},
     "output_type": "execute_result"
    }
   ],
   "source": [
    "x_star"
   ]
  },
  {
   "cell_type": "code",
   "execution_count": 162,
   "metadata": {},
   "outputs": [
    {
     "data": {
      "text/plain": [
       "4.2"
      ]
     },
     "execution_count": 162,
     "metadata": {},
     "output_type": "execute_result"
    }
   ],
   "source": [
    "x1"
   ]
  },
  {
   "cell_type": "code",
   "execution_count": 163,
   "metadata": {},
   "outputs": [
    {
     "data": {
      "text/plain": [
       "4.499999999999998"
      ]
     },
     "execution_count": 163,
     "metadata": {},
     "output_type": "execute_result"
    }
   ],
   "source": [
    "x2"
   ]
  },
  {
   "cell_type": "code",
   "execution_count": 164,
   "metadata": {},
   "outputs": [
    {
     "data": {
      "text/plain": [
       "5.0"
      ]
     },
     "execution_count": 164,
     "metadata": {},
     "output_type": "execute_result"
    }
   ],
   "source": [
    "x3"
   ]
  },
  {
   "cell_type": "code",
   "execution_count": 165,
   "metadata": {},
   "outputs": [],
   "source": [
    "delta = 0.1\n",
    "epsilon = 0.01\n",
    "x_min = x2\n",
    "x_star = x_star\n",
    "\n",
    "while abs(x_min - x_star) >= epsilon and abs(f(x_min) - f(x_star)) >= epsilon:\n",
    "    x1 = x_star  # is the x_star the new primary dot?\n",
    "    x2 = x1 + delta\n",
    "    if f(x1) >= f(x2):\n",
    "        x3 = x1 + 2 * delta\n",
    "    else:\n",
    "        x3 = x1 - delta\n",
    "    x = [x1, x2, x3]\n",
    "    values = list(map(f, x))\n",
    "    m = min(values)\n",
    "    x_min = x[values.index(m)]\n",
    "    \n",
    "    if abs(x3 - x2) == abs(x2 - x1):\n",
    "        x_star = x2 + (abs(x2 - x1) * (f(x1) - f(x3))) / (2 * (f(x1) - 2 * f(x2) + f(x3)))\n",
    "    else:\n",
    "        a1 = (f(x2) - f(x1)) / (x2 - x1)\n",
    "        a2 = (1 / (x3 - x2)) * ((f(x1) - f(x3)) / (x3 - x1) + (f(x2) - f(x1)) / (x2 - x1))\n",
    "        x_star = (x1 + x2) / 2 - a1 / (2 * a2)\n",
    "    \n",
    "    x = [x1, x2, x_star, x3]\n",
    "    x.sort()\n",
    "    values = list(map(f, x))\n",
    "    m = min(values)\n",
    "    x1 = x[values.index(m) - 1]\n",
    "    x2 = x[values.index(m)]\n",
    "    x3 = x[values.index(m) + 1]\n",
    "    "
   ]
  },
  {
   "cell_type": "code",
   "execution_count": 166,
   "metadata": {},
   "outputs": [
    {
     "data": {
      "text/plain": [
       "4.2"
      ]
     },
     "execution_count": 166,
     "metadata": {},
     "output_type": "execute_result"
    }
   ],
   "source": [
    "round(x1, 2)"
   ]
  },
  {
   "cell_type": "code",
   "execution_count": 167,
   "metadata": {},
   "outputs": [
    {
     "data": {
      "text/plain": [
       "4.5"
      ]
     },
     "execution_count": 167,
     "metadata": {},
     "output_type": "execute_result"
    }
   ],
   "source": [
    "round(x2, 2)"
   ]
  },
  {
   "cell_type": "code",
   "execution_count": 168,
   "metadata": {},
   "outputs": [
    {
     "data": {
      "text/plain": [
       "5.0"
      ]
     },
     "execution_count": 168,
     "metadata": {},
     "output_type": "execute_result"
    }
   ],
   "source": [
    "round(x3, 2)"
   ]
  },
  {
   "cell_type": "code",
   "execution_count": 169,
   "metadata": {},
   "outputs": [
    {
     "data": {
      "text/plain": [
       "4.5"
      ]
     },
     "execution_count": 169,
     "metadata": {},
     "output_type": "execute_result"
    }
   ],
   "source": [
    "round(x_star,2)"
   ]
  },
  {
   "cell_type": "code",
   "execution_count": null,
   "metadata": {
    "collapsed": true
   },
   "outputs": [],
   "source": []
  }
 ],
 "metadata": {
  "kernelspec": {
   "display_name": "Python 3",
   "language": "python",
   "name": "python3"
  },
  "language_info": {
   "codemirror_mode": {
    "name": "ipython",
    "version": 3
   },
   "file_extension": ".py",
   "mimetype": "text/x-python",
   "name": "python",
   "nbconvert_exporter": "python",
   "pygments_lexer": "ipython3",
   "version": "3.6.4"
  }
 },
 "nbformat": 4,
 "nbformat_minor": 2
}
