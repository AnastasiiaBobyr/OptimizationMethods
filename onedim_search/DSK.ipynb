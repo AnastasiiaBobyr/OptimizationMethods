{
 "cells": [
  {
   "cell_type": "markdown",
   "metadata": {},
   "source": [
    "## Метод ДСК (отдельно)"
   ]
  },
  {
   "cell_type": "code",
   "execution_count": 2,
   "metadata": {},
   "outputs": [],
   "source": [
    "import numpy as np"
   ]
  },
  {
   "cell_type": "code",
   "execution_count": 5,
   "metadata": {},
   "outputs": [],
   "source": [
    "x0 = [6.8682, -2.2666]\n",
    "S0 = [0, 1]\n",
    "x = np.array([x0])\n",
    "S = np.array([S0])\n",
    "\n",
    "\n",
    "def f(lambd):\n",
    "    t = x[0] + lambd * S[0]\n",
    "    return (t[0] - 8) ** 2 - t[0] * t[1] + 3 * t[1] ** 2 \n",
    "\n",
    "a = 0.7233\n",
    "b = 3.6163\n",
    "\n",
    "#x = [0]\n",
    "delta = 0.1\n",
    "epsilon = 0.01\n",
    "x_star = x[0] - 2 * epsilon  # just for getting rid of do...while loop\n",
    "\n",
    "\n",
    "x1 = a\n",
    "x2 = (a + b) / 2\n",
    "x3 = b\n",
    "\n",
    "if abs(x3 - x2) == abs(x2 - x1):\n",
    "    x_star = x2 + (abs(x2 - x1) * (f(x1) - f(x3))) / (2 * (f(x1) - 2 * f(x2) + f(x3)))\n",
    "else:\n",
    "    a1 = (f(x2) - f(x1)) / (x2 - x1)\n",
    "    a2 = (1 / (x3 - x2)) * ((f(x1) - f(x3)) / (x3 - x1) + (f(x2) - f(x1)) / (x2 - x1))\n",
    "    x_star = (x1 + x2) / 2 - a1 / (2 * a2)\n",
    "\n",
    "x = [x1, x2, x_star, x3]\n",
    "x.sort()\n",
    "# x = [round(i, 1) for i in x]\n",
    "values = list(map(f, x))\n",
    "m = min(values)\n",
    "x1 = x[values.index(m) - 1]\n",
    "x2 = x[values.index(m)]\n",
    "x3 = x[values.index(m) + 1]\n",
    "\n",
    "x = [x2]"
   ]
  },
  {
   "cell_type": "code",
   "execution_count": 6,
   "metadata": {},
   "outputs": [
    {
     "data": {
      "text/plain": [
       "[0.7233]"
      ]
     },
     "execution_count": 6,
     "metadata": {},
     "output_type": "execute_result"
    }
   ],
   "source": [
    "x"
   ]
  },
  {
   "cell_type": "code",
   "execution_count": null,
   "metadata": {
    "collapsed": true
   },
   "outputs": [],
   "source": []
  }
 ],
 "metadata": {
  "kernelspec": {
   "display_name": "Python 3",
   "language": "python",
   "name": "python3"
  },
  "language_info": {
   "codemirror_mode": {
    "name": "ipython",
    "version": 3
   },
   "file_extension": ".py",
   "mimetype": "text/x-python",
   "name": "python",
   "nbconvert_exporter": "python",
   "pygments_lexer": "ipython3",
   "version": "3.6.4"
  }
 },
 "nbformat": 4,
 "nbformat_minor": 2
}
