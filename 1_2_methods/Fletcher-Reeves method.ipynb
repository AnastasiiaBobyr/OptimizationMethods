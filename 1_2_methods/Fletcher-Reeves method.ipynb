{
 "cells": [
  {
   "cell_type": "code",
   "execution_count": 2,
   "metadata": {},
   "outputs": [],
   "source": [
    "import numpy as np"
   ]
  },
  {
   "cell_type": "code",
   "execution_count": 42,
   "metadata": {},
   "outputs": [],
   "source": [
    "def f(x):\n",
    "    return 2 * x[0] ** 2 + x[0] * x[1] + 2 * x[1] ** 2 + 8 * x[0]\n",
    "\n",
    "def grad_f(t):\n",
    "    t1 = 4 * t[0] + 1 * t[1] + 8\n",
    "    t2 = 1 * t[0] + 4 * t[1]\n",
    "    return np.array([t1, t2])\n",
    "\n",
    "def H(t):\n",
    "    return np.array([[4,1], [1,4]])\n",
    "\n",
    "x0 = [0,0]\n",
    "x = np.array([x0])\n",
    "#antigradient S0 = [0.5, 0.866]\n",
    "lambda_ = []"
   ]
  },
  {
   "cell_type": "code",
   "execution_count": 43,
   "metadata": {},
   "outputs": [
    {
     "name": "stdout",
     "output_type": "stream",
     "text": [
      "S0: [-8  0]\n",
      "lambda0: [0.25]\n",
      "x1: [-2.  0.]\n"
     ]
    }
   ],
   "source": [
    "S0 = -grad_f(x[0])\n",
    "S = np.array([S0])\n",
    "\n",
    "print(\"S0:\",np.round(S[0],4))\n",
    "lambda_.append(- np.dot(grad_f(x[0]), S[0][None,:].T) / np.dot(S[0], np.dot(H(x[0]), S[0][None,:].T)))\n",
    "print(\"lambda0:\",np.round(lambda_[0],4))\n",
    "\n",
    "x1 = x[0] + lambda_[0] * S[0]\n",
    "x = np.append(x, [x1], axis=0)\n",
    "print(\"x1:\", np.round(x[1],4))"
   ]
  },
  {
   "cell_type": "code",
   "execution_count": 44,
   "metadata": {},
   "outputs": [
    {
     "name": "stdout",
     "output_type": "stream",
     "text": [
      "S1: [-0.5  2. ]\n",
      "lambda1: [0.2667]\n",
      "x2: [-2.13333333  0.53333333]\n"
     ]
    }
   ],
   "source": [
    "S1 = -grad_f(x[1]) + S[0] * (np.linalg.norm(grad_f(x[1])) ** 2) / (np.linalg.norm(grad_f(x[0])) ** 2)\n",
    "S = np.append(S, [S1], axis=0)\n",
    "print(\"S1:\",np.round(S[1],4))\n",
    "\n",
    "lambda_.append(- np.dot(grad_f(x[1]), S[1][None,:].T) / np.dot(S[1], np.dot(H(x[1]), S[1][None,:].T)))\n",
    "print(\"lambda1:\",np.round(lambda_[1],4))\n",
    "\n",
    "x2 = x[1] + lambda_[1] * S[1]\n",
    "x = np.append(x, [x2], axis=0)\n",
    "print(\"x2:\", x[2])"
   ]
  },
  {
   "cell_type": "code",
   "execution_count": 47,
   "metadata": {},
   "outputs": [
    {
     "data": {
      "text/plain": [
       "array([-0.,  0.])"
      ]
     },
     "execution_count": 47,
     "metadata": {},
     "output_type": "execute_result"
    }
   ],
   "source": [
    "#Критерий окончания\n",
    "grad_f(x[2]).T * S[1]"
   ]
  },
  {
   "cell_type": "code",
   "execution_count": null,
   "metadata": {},
   "outputs": [],
   "source": []
  }
 ],
 "metadata": {
  "kernelspec": {
   "display_name": "Python 3",
   "language": "python",
   "name": "python3"
  },
  "language_info": {
   "codemirror_mode": {
    "name": "ipython",
    "version": 3
   },
   "file_extension": ".py",
   "mimetype": "text/x-python",
   "name": "python",
   "nbconvert_exporter": "python",
   "pygments_lexer": "ipython3",
   "version": "3.6.4"
  }
 },
 "nbformat": 4,
 "nbformat_minor": 2
}
