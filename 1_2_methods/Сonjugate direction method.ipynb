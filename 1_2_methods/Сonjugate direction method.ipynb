{
 "cells": [
  {
   "cell_type": "code",
   "execution_count": 300,
   "metadata": {},
   "outputs": [],
   "source": [
    "import numpy as np"
   ]
  },
  {
   "cell_type": "code",
   "execution_count": 301,
   "metadata": {},
   "outputs": [],
   "source": [
    "def f(x):\n",
    "    return 8 * x[0] ** 2 + 4 * x[0] * x[1] + 5 * x[1] ** 2\n",
    "\n",
    "def grad_f(t):\n",
    "    t1 = 16 * t[0] + 4 * t[1]\n",
    "    t2 = 4 * t[0] + 10 * t[1]\n",
    "    return np.array([t1, t2])\n",
    "\n",
    "def H(t):\n",
    "    return np.array([[16,4], [4,10]])\n",
    "\n",
    "x0 = [4,4]\n",
    "x = np.array([x0])\n",
    "S0 = [0.5, 0.866]\n",
    "S = np.array([S0])\n",
    "lambda_ = []"
   ]
  },
  {
   "cell_type": "code",
   "execution_count": 302,
   "metadata": {},
   "outputs": [
    {
     "name": "stdout",
     "output_type": "stream",
     "text": [
      "lambda0: [-5.9141]\n"
     ]
    }
   ],
   "source": [
    "lambda_.append(- np.dot(grad_f(x[0]), S[0][None,:].T) / np.dot(S[0], np.dot(H(x[0]), S[0][None,:].T)))\n",
    "print(\"lambda0:\",np.round(lambda_[0],4))"
   ]
  },
  {
   "cell_type": "code",
   "execution_count": 303,
   "metadata": {},
   "outputs": [
    {
     "name": "stdout",
     "output_type": "stream",
     "text": [
      "x1: [ 1.0429 -1.1216]\n"
     ]
    }
   ],
   "source": [
    "x1 = x[0] + lambda_[0] * S[0]\n",
    "x = np.append(x, [x1], axis=0)\n",
    "print(\"x1:\", np.round(x[1],4))"
   ]
  },
  {
   "cell_type": "code",
   "execution_count": 304,
   "metadata": {},
   "outputs": [
    {
     "name": "stdout",
     "output_type": "stream",
     "text": [
      "S1: [-0.681   0.7323]\n"
     ]
    }
   ],
   "source": [
    "s1 = np.linspace(-1,1,20000)\n",
    "s2 = list(map(lambda x: (1 - (x**2))**(1/2), s1))\n",
    "s2 = np.array(s2)\n",
    "\n",
    "mas = [] \n",
    "for i in range(0,s1.size):\n",
    "    mas.append(np.dot(np.dot(S[0], H(0)), np.array([s1[i],s2[i]])[None,:].T))\n",
    "\n",
    "ind = mas.index(min(mas, key=lambda el: abs(el)))\n",
    "S1 = np.array([s1[ind], s2[ind]])\n",
    "print(\"S1:\", np.round(S1,4))\n",
    "S = np.append(S, [S1], axis=0)"
   ]
  },
  {
   "cell_type": "code",
   "execution_count": 305,
   "metadata": {},
   "outputs": [
    {
     "name": "stdout",
     "output_type": "stream",
     "text": [
      "lambda1: [1.5316]\n"
     ]
    }
   ],
   "source": [
    "lambda_.append(- np.dot(grad_f(x[1]), S[1][None,:].T) / np.dot(S[1], np.dot(H(x[1]), S[1][None,:].T)))\n",
    "print(\"lambda1:\", np.round(lambda_[1],4))"
   ]
  },
  {
   "cell_type": "code",
   "execution_count": 306,
   "metadata": {},
   "outputs": [
    {
     "name": "stdout",
     "output_type": "stream",
     "text": [
      "x2: [-0. -0.]\n"
     ]
    }
   ],
   "source": [
    "x2 = x[1] + lambda_[1] * S[1]\n",
    "x = np.append(x, [x2], axis=0)\n",
    "print(\"x2:\", np.round(x[2],4))"
   ]
  },
  {
   "cell_type": "code",
   "execution_count": null,
   "metadata": {},
   "outputs": [],
   "source": []
  }
 ],
 "metadata": {
  "kernelspec": {
   "display_name": "Python 3",
   "language": "python",
   "name": "python3"
  },
  "language_info": {
   "codemirror_mode": {
    "name": "ipython",
    "version": 3
   },
   "file_extension": ".py",
   "mimetype": "text/x-python",
   "name": "python",
   "nbconvert_exporter": "python",
   "pygments_lexer": "ipython3",
   "version": "3.6.4"
  }
 },
 "nbformat": 4,
 "nbformat_minor": 2
}
