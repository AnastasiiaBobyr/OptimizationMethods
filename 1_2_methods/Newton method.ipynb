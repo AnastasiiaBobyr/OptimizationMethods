{
 "cells": [
  {
   "cell_type": "code",
   "execution_count": 84,
   "metadata": {},
   "outputs": [],
   "source": [
    "import numpy as np"
   ]
  },
  {
   "cell_type": "code",
   "execution_count": 85,
   "metadata": {},
   "outputs": [],
   "source": [
    "def f(x):\n",
    "    return 6 * x[0] ** 2 + x[0] * x[1] + 2 * x[1] ** 2\n",
    "\n",
    "def grad_f(t):\n",
    "    t1 = 6 * t[0] + t[1]\n",
    "    t2 = 4 * t[1] + t[0]\n",
    "    return np.array([t1, t2])\n",
    "\n",
    "def H(t):\n",
    "    return np.matrix([[6,1], [1,4]])\n",
    "\n",
    "x = [[6,4]]"
   ]
  },
  {
   "cell_type": "code",
   "execution_count": 86,
   "metadata": {},
   "outputs": [
    {
     "data": {
      "text/plain": [
       "matrix([[ 0.17391304, -0.04347826],\n",
       "        [-0.04347826,  0.26086957]])"
      ]
     },
     "execution_count": 86,
     "metadata": {},
     "output_type": "execute_result"
    }
   ],
   "source": [
    "np.linalg.inv(H(1))"
   ]
  },
  {
   "cell_type": "code",
   "execution_count": 87,
   "metadata": {},
   "outputs": [
    {
     "data": {
      "text/plain": [
       "array([40, 22])"
      ]
     },
     "execution_count": 87,
     "metadata": {},
     "output_type": "execute_result"
    }
   ],
   "source": [
    "grad_f(x[0]).T"
   ]
  },
  {
   "cell_type": "code",
   "execution_count": 88,
   "metadata": {},
   "outputs": [],
   "source": [
    "for i in range(0,3):\n",
    "    x.append(np.matrix(x[i]).T - np.linalg.inv(H(1)) * np.matrix(grad_f(x[i])).T)"
   ]
  },
  {
   "cell_type": "code",
   "execution_count": 89,
   "metadata": {},
   "outputs": [
    {
     "data": {
      "text/plain": [
       "[[6, 4], matrix([[0.],\n",
       "         [0.]]), matrix([[0., 0.],\n",
       "         [0., 0.]]), matrix([[0., 0.],\n",
       "         [0., 0.]])]"
      ]
     },
     "execution_count": 89,
     "metadata": {},
     "output_type": "execute_result"
    }
   ],
   "source": [
    "x"
   ]
  },
  {
   "cell_type": "code",
   "execution_count": null,
   "metadata": {},
   "outputs": [],
   "source": []
  }
 ],
 "metadata": {
  "kernelspec": {
   "display_name": "Python 3",
   "language": "python",
   "name": "python3"
  },
  "language_info": {
   "codemirror_mode": {
    "name": "ipython",
    "version": 3
   },
   "file_extension": ".py",
   "mimetype": "text/x-python",
   "name": "python",
   "nbconvert_exporter": "python",
   "pygments_lexer": "ipython3",
   "version": "3.6.4"
  }
 },
 "nbformat": 4,
 "nbformat_minor": 2
}
