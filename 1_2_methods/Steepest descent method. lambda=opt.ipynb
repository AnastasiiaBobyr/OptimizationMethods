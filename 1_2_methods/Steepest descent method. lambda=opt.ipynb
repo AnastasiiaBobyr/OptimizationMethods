{
 "cells": [
  {
   "cell_type": "code",
   "execution_count": 11,
   "metadata": {},
   "outputs": [],
   "source": [
    "import numpy as np"
   ]
  },
  {
   "cell_type": "code",
   "execution_count": 12,
   "metadata": {},
   "outputs": [],
   "source": [
    "def f(x):\n",
    "    return 3 * x[0] ** 2 + x[0] * x[1] + 2 * x[1] ** 2\n",
    "\n",
    "def grad_f(t):\n",
    "    t1 = 6 * t[0] + t[1]\n",
    "    t2 = 4 * t[1] + t[0]\n",
    "    return np.array([t1, t2])\n",
    "\n",
    "def H(t):\n",
    "    return np.matrix([[6,1], [1,4]])\n",
    "\n",
    "x = [[6,4]]\n",
    "#x = np.array(x0)\n",
    "S = []\n",
    "#S = np.array([])\n",
    "#lambda_const = 1"
   ]
  },
  {
   "cell_type": "code",
   "execution_count": 13,
   "metadata": {},
   "outputs": [
    {
     "data": {
      "text/plain": [
       "[6, 4]"
      ]
     },
     "execution_count": 13,
     "metadata": {},
     "output_type": "execute_result"
    }
   ],
   "source": [
    "x[0]"
   ]
  },
  {
   "cell_type": "code",
   "execution_count": 14,
   "metadata": {},
   "outputs": [
    {
     "name": "stdout",
     "output_type": "stream",
     "text": [
      "[[0.15673887]]\n",
      "[[0.27624602]]\n",
      "[[0.15673887]]\n"
     ]
    }
   ],
   "source": [
    "for i in range(0,3):\n",
    "    S.append(-grad_f(x[i]))\n",
    "    lambda_opt = - np.matrix(grad_f(x[i])) * np.matrix(S[i]).T / (np.matrix(S[i]) * H(x[i]) * np.matrix(S[i]).T)\n",
    "    print(lambda_opt)\n",
    "    x.append(x[i] + float(lambda_opt) * S[i])"
   ]
  },
  {
   "cell_type": "code",
   "execution_count": 15,
   "metadata": {},
   "outputs": [
    {
     "data": {
      "text/plain": [
       "[array([-40, -22]),\n",
       " array([ 1.06558363, -1.93742479]),\n",
       " array([-0.16538992, -0.09096446])]"
      ]
     },
     "execution_count": 15,
     "metadata": {},
     "output_type": "execute_result"
    }
   ],
   "source": [
    "S"
   ]
  },
  {
   "cell_type": "code",
   "execution_count": 16,
   "metadata": {},
   "outputs": [
    {
     "data": {
      "text/plain": [
       "[[6, 4],\n",
       " array([-0.26955475,  0.55174489]),\n",
       " array([0.02480849, 0.01653899]),\n",
       " array([-0.00111454,  0.00228133])]"
      ]
     },
     "execution_count": 16,
     "metadata": {},
     "output_type": "execute_result"
    }
   ],
   "source": [
    "x"
   ]
  },
  {
   "cell_type": "code",
   "execution_count": null,
   "metadata": {},
   "outputs": [],
   "source": []
  }
 ],
 "metadata": {
  "kernelspec": {
   "display_name": "Python 3",
   "language": "python",
   "name": "python3"
  },
  "language_info": {
   "codemirror_mode": {
    "name": "ipython",
    "version": 3
   },
   "file_extension": ".py",
   "mimetype": "text/x-python",
   "name": "python",
   "nbconvert_exporter": "python",
   "pygments_lexer": "ipython3",
   "version": "3.6.4"
  }
 },
 "nbformat": 4,
 "nbformat_minor": 2
}
