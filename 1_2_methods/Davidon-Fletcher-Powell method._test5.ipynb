{
 "cells": [
  {
   "cell_type": "code",
   "execution_count": 1,
   "metadata": {},
   "outputs": [],
   "source": [
    "import numpy as np"
   ]
  },
  {
   "cell_type": "code",
   "execution_count": 2,
   "metadata": {},
   "outputs": [],
   "source": [
    "def f(t):\n",
    "    return (t[0] - 3) ** 2 - t[0] * t[1] + 3 * t[1] ** 2 \n",
    "\n",
    "def grad_f(t):\n",
    "    t1 = 2 * t[0] - 1 * t[1] - 6\n",
    "    t2 = -1 * t[0] + 6 * t[1]\n",
    "    return np.array([t1, t2])\n",
    "\n",
    "def H(t):\n",
    "    return np.array([[2,-1], [-1,6]])\n",
    "\n",
    "x0 = [-8.6, -8.6]\n",
    "x = np.array([x0])\n",
    "lambda_ = []"
   ]
  },
  {
   "cell_type": "code",
   "execution_count": 3,
   "metadata": {},
   "outputs": [
    {
     "name": "stdout",
     "output_type": "stream",
     "text": [
      "S0: [14.6 43. ]\n",
      "lambda0: [0.2009]\n",
      "x1: [-5.6669  0.0386]\n"
     ]
    }
   ],
   "source": [
    "#just for the first iteration\n",
    "S0 = -grad_f(x[0])\n",
    "S = np.array([S0])\n",
    "print(\"S0:\",np.round(S[0],4))\n",
    "\n",
    "lambda_.append(- np.dot(grad_f(x[0]), S[0][None,:].T) / np.dot(S[0], np.dot(H(x[0]), S[0][None,:].T)))\n",
    "print(\"lambda0:\",np.round(lambda_[0],4))\n",
    "\n",
    "x1 = x[0] + lambda_[0] * S[0]\n",
    "x = np.append(x, [x1], axis=0)\n",
    "print(\"x1:\", np.round(x[1],4))"
   ]
  },
  {
   "cell_type": "code",
   "execution_count": 4,
   "metadata": {},
   "outputs": [
    {
     "name": "stdout",
     "output_type": "stream",
     "text": [
      "[[[1 0]\n",
      "  [0 1]]]\n"
     ]
    }
   ],
   "source": [
    "A0 = np.array([[1,0], [0,1]])\n",
    "A = np.array([A0])\n",
    "# how to append elemets in A!!!    A = np.append(A, [[[1,1], [1,1]]], axis=0)\n",
    "print(A)\n",
    "#Acor[k] = \n",
    "delta_x = (x[1] - x[0])[None,:]\n",
    "delta_g = grad_f(x[1]) - grad_f(x[0])[None,:]\n",
    "Acor01 = np.dot(delta_x.T, delta_x) / np.dot(delta_x, delta_g.T) \n",
    "Acor02 = np.dot(np.dot(np.dot(A[0], delta_g.T), delta_g), A[0]) / np.dot(np.dot(delta_g, A[0]), delta_g.T)\n",
    "Acor0 = Acor01 - Acor02\n",
    "#A = np.append(A, [[A[k-1] + Acor[k]]], axis=0) -----two on one pair of []?\n",
    "A1 = A0 + Acor0\n",
    "A = np.append(A, [A1], axis=0)\n",
    "#Sk = - A[k] * grad_f(x[k])\n",
    "#S = np.append(S, [Sk], axis=0) -----two on one pair of []?\n",
    "S1 = - np.dot(A1, grad_f(x[1]))\n",
    "S = np.append(S, [S1], axis=0)"
   ]
  },
  {
   "cell_type": "code",
   "execution_count": 5,
   "metadata": {},
   "outputs": [
    {
     "data": {
      "text/plain": [
       "array([[ 0.01756205,  0.11767607],\n",
       "       [ 0.11767607, -0.81666422]])"
      ]
     },
     "execution_count": 5,
     "metadata": {},
     "output_type": "execute_result"
    }
   ],
   "source": [
    "Acor0"
   ]
  },
  {
   "cell_type": "code",
   "execution_count": 6,
   "metadata": {},
   "outputs": [
    {
     "data": {
      "text/plain": [
       "array([[1.01756205, 0.11767607],\n",
       "       [0.11767607, 0.18333578]])"
      ]
     },
     "execution_count": 6,
     "metadata": {},
     "output_type": "execute_result"
    }
   ],
   "source": [
    "A1"
   ]
  },
  {
   "cell_type": "code",
   "execution_count": 7,
   "metadata": {},
   "outputs": [
    {
     "data": {
      "text/plain": [
       "array([-17.37239009,   5.89853245])"
      ]
     },
     "execution_count": 7,
     "metadata": {},
     "output_type": "execute_result"
    }
   ],
   "source": [
    "grad_f(x[1])"
   ]
  },
  {
   "cell_type": "code",
   "execution_count": 8,
   "metadata": {},
   "outputs": [
    {
     "data": {
      "text/plain": [
       "array([16.98336871,  0.96290258])"
      ]
     },
     "execution_count": 8,
     "metadata": {},
     "output_type": "execute_result"
    }
   ],
   "source": [
    " S1"
   ]
  },
  {
   "cell_type": "code",
   "execution_count": 9,
   "metadata": {},
   "outputs": [
    {
     "name": "stdout",
     "output_type": "stream",
     "text": [
      "lambda1: [0.5264]\n",
      "x2: [3.2727 0.5455]\n"
     ]
    }
   ],
   "source": [
    "lambda_.append(- np.dot(grad_f(x[1]), S[1][None,:].T) / np.dot(S[1], np.dot(H(x[1]), S[1][None,:].T)))\n",
    "print(\"lambda1:\",np.round(lambda_[1],4))\n",
    "\n",
    "x2 = x[1] + lambda_[1] * S[1]\n",
    "x = np.append(x, [x2], axis=0)\n",
    "print(\"x2:\", np.round(x[2],4))"
   ]
  },
  {
   "cell_type": "code",
   "execution_count": 10,
   "metadata": {},
   "outputs": [],
   "source": [
    "delta_x = (x[2] - x[1])[None,:]\n",
    "delta_g = grad_f(x[2]) - grad_f(x[1])[None,:]\n",
    "Acor11 = np.dot(delta_x.T, delta_x) / np.dot(delta_x, delta_g.T) \n",
    "Acor12 = np.dot(np.dot(np.dot(A[1], delta_g.T), delta_g), A[1]) / np.dot(np.dot(delta_g, A[1]), delta_g.T)\n",
    "Acor1 = Acor11 - Acor12\n",
    "#A = np.append(A, [[A[k-1] + Acor[k]]], axis=0) -----two on one pair of []?\n",
    "A2 = A1 + Acor1\n",
    "#Sk = - A[k] * grad_f(x[k])\n",
    "#S = np.append(S, [Sk], axis=0) -----two on one pair of []?\n",
    "S2 = - np.dot(A2, grad_f(x[2]))\n",
    "S = np.append(S, [S2], axis=0)"
   ]
  },
  {
   "cell_type": "code",
   "execution_count": 11,
   "metadata": {},
   "outputs": [
    {
     "data": {
      "text/plain": [
       "array([[0.54545455, 0.09090909],\n",
       "       [0.09090909, 0.18181818]])"
      ]
     },
     "execution_count": 11,
     "metadata": {},
     "output_type": "execute_result"
    }
   ],
   "source": [
    "np.linalg.inv(H(1))"
   ]
  },
  {
   "cell_type": "code",
   "execution_count": 12,
   "metadata": {},
   "outputs": [
    {
     "data": {
      "text/plain": [
       "array([[0.54545455, 0.09090909],\n",
       "       [0.09090909, 0.18181818]])"
      ]
     },
     "execution_count": 12,
     "metadata": {},
     "output_type": "execute_result"
    }
   ],
   "source": [
    "A2"
   ]
  },
  {
   "cell_type": "code",
   "execution_count": 23,
   "metadata": {
    "scrolled": true
   },
   "outputs": [
    {
     "data": {
      "text/plain": [
       "0.0"
      ]
     },
     "execution_count": 23,
     "metadata": {},
     "output_type": "execute_result"
    }
   ],
   "source": [
    "round(np.dot(np.dot(S[1], H(1)), S[0].T),12)"
   ]
  },
  {
   "cell_type": "code",
   "execution_count": null,
   "metadata": {},
   "outputs": [],
   "source": []
  }
 ],
 "metadata": {
  "kernelspec": {
   "display_name": "Python 3",
   "language": "python",
   "name": "python3"
  },
  "language_info": {
   "codemirror_mode": {
    "name": "ipython",
    "version": 3
   },
   "file_extension": ".py",
   "mimetype": "text/x-python",
   "name": "python",
   "nbconvert_exporter": "python",
   "pygments_lexer": "ipython3",
   "version": "3.6.4"
  }
 },
 "nbformat": 4,
 "nbformat_minor": 2
}
