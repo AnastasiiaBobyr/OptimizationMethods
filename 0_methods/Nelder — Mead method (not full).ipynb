{
 "cells": [
  {
   "cell_type": "code",
   "execution_count": 9,
   "metadata": {},
   "outputs": [],
   "source": [
    "import numpy as np"
   ]
  },
  {
   "cell_type": "code",
   "execution_count": 21,
   "metadata": {},
   "outputs": [],
   "source": [
    "def f(t):\n",
    "    return 3 * (t[0] - 5) ** 2 + (t[1] - 4) ** 2\n",
    "\n",
    "x0 = [0, 0] #to get rid of 0 index\n",
    "x1 = np.array([8, 7])\n",
    "x2 = np.array([10, 9])\n",
    "x3 = np.array([8, 9])\n",
    "\n",
    "x = np.array([x0, x1, x2, x3])\n",
    "ksi = 1"
   ]
  },
  {
   "cell_type": "code",
   "execution_count": 22,
   "metadata": {},
   "outputs": [
    {
     "data": {
      "text/plain": [
       "7"
      ]
     },
     "execution_count": 22,
     "metadata": {},
     "output_type": "execute_result"
    }
   ],
   "source": [
    "f([4,6])"
   ]
  },
  {
   "cell_type": "code",
   "execution_count": 40,
   "metadata": {},
   "outputs": [
    {
     "ename": "IndexError",
     "evalue": "list index out of range",
     "output_type": "error",
     "traceback": [
      "\u001b[0;31m---------------------------------------------------------------------------\u001b[0m",
      "\u001b[0;31mIndexError\u001b[0m                                Traceback (most recent call last)",
      "\u001b[0;32m<ipython-input-40-c2197daa3202>\u001b[0m in \u001b[0;36m<module>\u001b[0;34m()\u001b[0m\n\u001b[1;32m     10\u001b[0m \u001b[0mres\u001b[0m \u001b[0;34m=\u001b[0m \u001b[0mdict\u001b[0m\u001b[0;34m(\u001b[0m\u001b[0mzip\u001b[0m\u001b[0;34m(\u001b[0m\u001b[0mfunc\u001b[0m\u001b[0;34m,\u001b[0m \u001b[0mpoints\u001b[0m\u001b[0;34m)\u001b[0m\u001b[0;34m)\u001b[0m\u001b[0;34m\u001b[0m\u001b[0m\n\u001b[1;32m     11\u001b[0m \u001b[0mres_sorted\u001b[0m \u001b[0;34m=\u001b[0m \u001b[0msorted\u001b[0m\u001b[0;34m(\u001b[0m\u001b[0mres\u001b[0m\u001b[0;34m.\u001b[0m\u001b[0mitems\u001b[0m\u001b[0;34m(\u001b[0m\u001b[0;34m)\u001b[0m\u001b[0;34m)\u001b[0m\u001b[0;34m\u001b[0m\u001b[0m\n\u001b[0;32m---> 12\u001b[0;31m \u001b[0mx_h\u001b[0m \u001b[0;34m=\u001b[0m \u001b[0mres_sorted\u001b[0m\u001b[0;34m[\u001b[0m\u001b[0;36m2\u001b[0m\u001b[0;34m]\u001b[0m\u001b[0;34m[\u001b[0m\u001b[0;36m1\u001b[0m\u001b[0;34m]\u001b[0m\u001b[0;34m\u001b[0m\u001b[0m\n\u001b[0m\u001b[1;32m     13\u001b[0m \u001b[0mx_g\u001b[0m \u001b[0;34m=\u001b[0m \u001b[0mres_sorted\u001b[0m\u001b[0;34m[\u001b[0m\u001b[0;36m1\u001b[0m\u001b[0;34m]\u001b[0m\u001b[0;34m[\u001b[0m\u001b[0;36m1\u001b[0m\u001b[0;34m]\u001b[0m\u001b[0;34m\u001b[0m\u001b[0m\n\u001b[1;32m     14\u001b[0m \u001b[0mx_l\u001b[0m\u001b[0;34m=\u001b[0m \u001b[0mres_sorted\u001b[0m\u001b[0;34m[\u001b[0m\u001b[0;36m0\u001b[0m\u001b[0;34m]\u001b[0m\u001b[0;34m[\u001b[0m\u001b[0;36m1\u001b[0m\u001b[0;34m]\u001b[0m\u001b[0;34m\u001b[0m\u001b[0m\n",
      "\u001b[0;31mIndexError\u001b[0m: list index out of range"
     ]
    }
   ],
   "source": [
    "x0 = [0, 0]\n",
    "x1 = np.array([5, 6])\n",
    "x2 = np.array([4, 6])\n",
    "x3 = np.array([4, 5])\n",
    "\n",
    "x = np.array([x0, x1, x2, x3])\n",
    "\n",
    "points = [x[1], x[2], x[3]]\n",
    "func = [f(x[1]), f(x[2]), f(x[3])]\n",
    "res = dict(zip(func, points))\n",
    "res_sorted = sorted(res.items())\n",
    "x_h = res_sorted[2][1]\n",
    "x_g = res_sorted[1][1]\n",
    "x_l= res_sorted[0][1]"
   ]
  },
  {
   "cell_type": "code",
   "execution_count": 41,
   "metadata": {
    "scrolled": true
   },
   "outputs": [
    {
     "name": "stdout",
     "output_type": "stream",
     "text": [
      "x_h: [4 6] f(x_h): 7\n",
      "x_g: [5 6] f(x_g): 4\n",
      "x_l: [4 5] f(x_l): 4\n",
      "x_c: [4.5 5.5]\n",
      "x_new: [5. 5.] f(x_new): 1.0\n"
     ]
    }
   ],
   "source": [
    "x_g = np.array([5, 6])\n",
    "x_h = np.array([4, 6])\n",
    "x_l = np.array([4, 5])\n",
    "\n",
    "print(\"x_h:\", x_h, \"f(x_h):\", f(x_h))\n",
    "print(\"x_g:\", x_g, \"f(x_g):\", f(x_g))\n",
    "print(\"x_l:\", x_l, \"f(x_l):\", f(x_l))\n",
    "\n",
    "x_c = (x_g + x_l) / 2\n",
    "print(\"x_c:\", x_c)\n",
    "\n",
    "x_new = 2 * x_c - x_h\n",
    "print(\"x_new:\", x_new, \"f(x_new):\", f(x_new))\n"
   ]
  },
  {
   "cell_type": "code",
   "execution_count": 46,
   "metadata": {},
   "outputs": [
    {
     "name": "stdout",
     "output_type": "stream",
     "text": [
      "Next x: [4.25 5.75] f: 4.75\n"
     ]
    },
    {
     "data": {
      "text/plain": [
       "array([4. , 5.5])"
      ]
     },
     "execution_count": 46,
     "metadata": {},
     "output_type": "execute_result"
    }
   ],
   "source": [
    "tetta = -1/2\n",
    "x_j = x_h + (1 + tetta) * (x_c - x_h)\n",
    "print(\"Next x:\", x_j, \"f:\", f(x_j))\n",
    "f(x_j)\n",
    "#np.append(x, x_j)\n",
    "\n",
    "x_reduction = x_l + 0.5 * ([4,6] - x_l)\n",
    "x_reduction"
   ]
  },
  {
   "cell_type": "code",
   "execution_count": 52,
   "metadata": {},
   "outputs": [
    {
     "data": {
      "text/plain": [
       "0.9468922527255178"
      ]
     },
     "execution_count": 52,
     "metadata": {},
     "output_type": "execute_result"
    }
   ],
   "source": [
    "#критерий окончания\n",
    "x_l = np.array([4.5, 5.5])\n",
    "x_h = np.array([4, 5.5])\n",
    "x_g = np.array([4, 5])\n",
    "x_c = (x_g + x_l + x_h) / 3\n",
    "\n",
    "np.sqrt((1/3) * ((f(x_h) - f(x_c)) ** 2 + \n",
    "                (f(x_g) - f(x_c)) ** 2 + \n",
    "                (f(x_l) - f(x_c)) ** 2))"
   ]
  },
  {
   "cell_type": "code",
   "execution_count": 53,
   "metadata": {},
   "outputs": [
    {
     "data": {
      "text/plain": [
       "array([4.16666667, 5.33333333])"
      ]
     },
     "execution_count": 53,
     "metadata": {},
     "output_type": "execute_result"
    }
   ],
   "source": [
    "x_c"
   ]
  },
  {
   "cell_type": "code",
   "execution_count": null,
   "metadata": {},
   "outputs": [],
   "source": []
  },
  {
   "cell_type": "code",
   "execution_count": null,
   "metadata": {},
   "outputs": [],
   "source": []
  },
  {
   "cell_type": "code",
   "execution_count": null,
   "metadata": {},
   "outputs": [],
   "source": []
  },
  {
   "cell_type": "code",
   "execution_count": null,
   "metadata": {},
   "outputs": [],
   "source": []
  },
  {
   "cell_type": "code",
   "execution_count": null,
   "metadata": {},
   "outputs": [],
   "source": []
  },
  {
   "cell_type": "code",
   "execution_count": null,
   "metadata": {},
   "outputs": [],
   "source": []
  },
  {
   "cell_type": "code",
   "execution_count": 45,
   "metadata": {},
   "outputs": [
    {
     "data": {
      "text/plain": [
       "array([7, 7])"
      ]
     },
     "execution_count": 45,
     "metadata": {},
     "output_type": "execute_result"
    }
   ],
   "source": []
  },
  {
   "cell_type": "code",
   "execution_count": 11,
   "metadata": {},
   "outputs": [
    {
     "name": "stdout",
     "output_type": "stream",
     "text": [
      "Result of Nelder-Mead algorithm: \n",
      "(3.0, 4.0) (7, 7) (7, 5)\n",
      "(3.0, 2.0) (7, 5) (3.0, 4.0)\n",
      "(4.0, 3.5) (3.0, 4.0) (3.0, 2.0)\n",
      "(4.0, 1.5) (3.0, 2.0) (4.0, 3.5)\n",
      "(3.75, 2.375) (4.0, 3.5) (4.0, 1.5)\n",
      "(3.90625, 2.328125) (3.75, 2.375) (4.0, 1.5)\n",
      "(3.90234375, 2.029296875) (4.0, 1.5) (3.90625, 2.328125)\n",
      "(3.92822265625, 2.009033203125) (3.90625, 2.328125) (3.90234375, 2.029296875)\n",
      "(3.91754150390625, 1.941925048828125) (3.90234375, 2.029296875) (3.92822265625, 2.009033203125)\n",
      "(3.94342041015625, 1.921661376953125) (3.91754150390625, 1.941925048828125) (3.92822265625, 2.009033203125)\n",
      "Best poits is: (3.92822265625, 2.009033203125)\n"
     ]
    }
   ],
   "source": [
    "class Vector(object):\n",
    "    def __init__(self, x, y):\n",
    "        \"\"\" Create a vector, example: v = Vector(1,2) \"\"\"\n",
    "        self.x = x\n",
    "        self.y = y\n",
    "\n",
    "    def __repr__(self):\n",
    "        return \"({0}, {1})\".format(self.x, self.y)\n",
    "\n",
    "    def __add__(self, other):\n",
    "        x = self.x + other.x\n",
    "        y = self.y + other.y\n",
    "        return Vector(x, y)\n",
    "\n",
    "    def __sub__(self, other):\n",
    "        x = self.x - other.x\n",
    "        y = self.y - other.y\n",
    "        return Vector(x, y)\n",
    "\n",
    "    def __rmul__(self, other):\n",
    "        x = self.x * other\n",
    "        y = self.y * other\n",
    "        return Vector(x, y)\n",
    "\n",
    "    def __truediv__(self, other):\n",
    "        x = self.x / other\n",
    "        y = self.y / other\n",
    "        return Vector(x, y)\n",
    "\n",
    "    def c(self):\n",
    "        return (self.x, self.y)\n",
    "        \n",
    "# objective f8 unction\n",
    "def f(point):\n",
    "    x, y = point\n",
    "    return 3 * (x - 4) ** 2 + (y - 2) ** 2\n",
    "\n",
    "def nelder_mead(alpha=1, beta=0.5, gamma=2, maxiter=10):\n",
    "    \n",
    "    # initialization\n",
    "    v1 = Vector(7, 5)\n",
    "    v2 = Vector(9, 7)\n",
    "    v3 = Vector(7, 7)\n",
    "\n",
    "    for i in range(maxiter):\n",
    "        adict = {v1:f(v1.c()), v2:f(v2.c()), v3:f(v3.c())}\n",
    "        points = sorted(adict.items(), key=lambda x: x[1])\n",
    "        \n",
    "        b = points[0][0]\n",
    "        g = points[1][0]\n",
    "        w = points[2][0]\n",
    "        \n",
    "        \n",
    "        mid = (g + b)/2\n",
    "\n",
    "        # reflection\n",
    "        xr = mid + alpha * (mid - w)\n",
    "        if f(xr.c()) < f(g.c()):\n",
    "            w = xr\n",
    "        else:\n",
    "            if f(xr.c()) < f(w.c()):\n",
    "                w = xr\n",
    "            c = (w + mid)/2\n",
    "            if f(c.c()) < f(w.c()):\n",
    "                w = c\n",
    "        if f(xr.c()) < f(b.c()):\n",
    "\n",
    "            # expansion\n",
    "            xe = mid + gamma * (xr - mid)\n",
    "            if f(xe.c()) < f(xr.c()):\n",
    "                w = xe\n",
    "            else:\n",
    "                w = xr\n",
    "        if f(xr.c()) > f(g.c()):\n",
    "            \n",
    "            # contraction\n",
    "            xc = mid + beta * (w - mid)\n",
    "            if f(xc.c()) < f(w.c()):\n",
    "                w = xc\n",
    "\n",
    "        # update points\n",
    "        v1 = w\n",
    "        v2 = g\n",
    "        v3 = b\n",
    "        print(v1, v2, v3)\n",
    "    return b\n",
    "\n",
    "print(\"Result of Nelder-Mead algorithm: \")\n",
    "xk = nelder_mead()\n",
    "print(\"Best poits is: %s\"%(xk))"
   ]
  }
 ],
 "metadata": {
  "kernelspec": {
   "display_name": "Python 3",
   "language": "python",
   "name": "python3"
  },
  "language_info": {
   "codemirror_mode": {
    "name": "ipython",
    "version": 3
   },
   "file_extension": ".py",
   "mimetype": "text/x-python",
   "name": "python",
   "nbconvert_exporter": "python",
   "pygments_lexer": "ipython3",
   "version": "3.6.4"
  }
 },
 "nbformat": 4,
 "nbformat_minor": 2
}
