{
 "cells": [
  {
   "cell_type": "code",
   "execution_count": 2,
   "metadata": {},
   "outputs": [],
   "source": [
    "import numpy as np"
   ]
  },
  {
   "cell_type": "code",
   "execution_count": 3,
   "metadata": {},
   "outputs": [],
   "source": [
    "def f(t):\n",
    "    return (t[0] - 3)**2 + 3 * t[1]**2\n",
    "\n",
    "\n",
    "x0 = np.array([6, 9])\n",
    "delta_x = np.array([0.6, 0.8])\n",
    "alpha = 2\n",
    "ksi = 1"
   ]
  },
  {
   "cell_type": "code",
   "execution_count": 4,
   "metadata": {},
   "outputs": [],
   "source": [
    "#exploring search\n",
    "def exploring_search(basis_point, delta_x):\n",
    "    current_basis = basis_point\n",
    "    if f([current_basis[0] + delta_x[0], current_basis[1]]) < f(current_basis):\n",
    "        current_basis = [current_basis[0] + delta_x[0], current_basis[1]]\n",
    "    elif f([current_basis[0] - delta_x[0], current_basis[1]]) < f(current_basis):\n",
    "        current_basis = [current_basis[0] - delta_x[0], current_basis[1]]\n",
    "\n",
    "    if f([current_basis[0], current_basis[1] + delta_x[1]]) < f(current_basis):\n",
    "        current_basis = [current_basis[0], current_basis[1] + delta_x[1]]\n",
    "    elif f([current_basis[0], current_basis[1] - delta_x[1]]) < f(current_basis):\n",
    "        current_basis = [current_basis[0], current_basis[1] - delta_x[1]]\n",
    "        \n",
    "    return current_basis"
   ]
  },
  {
   "cell_type": "code",
   "execution_count": 5,
   "metadata": {},
   "outputs": [],
   "source": [
    "def search_for_the_pattern(basis_point, current_basis):\n",
    "    basis_point = np.array(basis_point)\n",
    "    current_basis = np.array(current_basis)\n",
    "    calc_point = current_basis + (current_basis - basis_point)\n",
    "    return calc_point"
   ]
  },
  {
   "cell_type": "code",
   "execution_count": 6,
   "metadata": {},
   "outputs": [
    {
     "name": "stdout",
     "output_type": "stream",
     "text": [
      "Basis point: [6 9] Current basis: [5.4 8.2]\n",
      "Basis point: [6 9] Current basis: [5.4 8.2]\n",
      "Calc point: [4.8 7.4]\n",
      "Basis point: [5.4 8.2] Current basis: [4.2 6.6]\n",
      "Calc point: [3. 5.]\n",
      "Basis point: [4.2 6.6] Current basis: [3.  4.2]\n",
      "Calc point: [1.8 1.8]\n",
      "Basis point: [3.  4.2] Current basis: [2.4 1. ]\n",
      "Calc point: [ 1.8 -2.2]\n",
      "Calc point: [3.  3.4]\n",
      "Basis point: [3.  3.8] Current basis: [3. 3.]\n",
      "Calc point: [3.  2.2]\n",
      "Basis point: [3. 3.] Current basis: [3.  1.8]\n",
      "Calc point: [3.  0.6]\n",
      "Basis point: [3.  1.8] Current basis: [3.  0.2]\n",
      "Calc point: [ 3.  -1.4]\n"
     ]
    }
   ],
   "source": [
    "basis_point = x0\n",
    "current_basis = exploring_search(basis_point = basis_point, delta_x = delta_x)\n",
    "print(\"Basis point:\",np.round(basis_point,2), \"Current basis:\", np.round(current_basis,2))\n",
    "new_current_basis = current_basis\n",
    "current_basis = basis_point\n",
    "\n",
    "while True:\n",
    "    if f(current_basis) > f(new_current_basis):\n",
    "        basis_point = current_basis\n",
    "        current_basis = new_current_basis\n",
    "        print(\"Basis point:\",np.round(basis_point,2), \"Current basis:\", np.round(current_basis,2))\n",
    "    else:\n",
    "        #print(\"Hello, I am here.\")\n",
    "        if np.linalg.norm(delta_x) < ksi:\n",
    "            break\n",
    "        else: \n",
    "            delta_x = delta_x / alpha\n",
    "            current_basis = exploring_search(basis_point = basis_point, delta_x = delta_x)\n",
    "\n",
    "            \n",
    "    calc_point = search_for_the_pattern(basis_point = basis_point, current_basis = current_basis)\n",
    "    print(\"Calc point:\",np.round(calc_point,2))\n",
    "    new_current_basis = exploring_search(basis_point = calc_point, delta_x = delta_x)"
   ]
  },
  {
   "cell_type": "code",
   "execution_count": 7,
   "metadata": {},
   "outputs": [
    {
     "name": "stdout",
     "output_type": "stream",
     "text": [
      "Basis point: [3.  1.8] Current basis: [3.  0.2]\n"
     ]
    }
   ],
   "source": [
    "print(\"Basis point:\",np.round(basis_point,2), \"Current basis:\", np.round(current_basis,2))"
   ]
  },
  {
   "cell_type": "code",
   "execution_count": null,
   "metadata": {},
   "outputs": [],
   "source": []
  }
 ],
 "metadata": {
  "kernelspec": {
   "display_name": "Python 3",
   "language": "python",
   "name": "python3"
  },
  "language_info": {
   "codemirror_mode": {
    "name": "ipython",
    "version": 3
   },
   "file_extension": ".py",
   "mimetype": "text/x-python",
   "name": "python",
   "nbconvert_exporter": "python",
   "pygments_lexer": "ipython3",
   "version": "3.6.4"
  }
 },
 "nbformat": 4,
 "nbformat_minor": 2
}
