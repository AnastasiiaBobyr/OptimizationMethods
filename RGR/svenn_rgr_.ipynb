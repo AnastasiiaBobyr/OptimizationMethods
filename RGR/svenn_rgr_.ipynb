{
 "cells": [
  {
   "cell_type": "code",
   "execution_count": 2,
   "metadata": {},
   "outputs": [],
   "source": [
    "def just_f(t):\n",
    "    return (t[0] - 3) ** 2 - t[0] * t[1] + 3 * t[1] ** 2 "
   ]
  },
  {
   "cell_type": "code",
   "execution_count": 3,
   "metadata": {},
   "outputs": [
    {
     "name": "stdout",
     "output_type": "stream",
     "text": [
      "delta 0.228384015533684\n",
      "case 1\n",
      "0 [2.284 0.038] 0.431\n",
      "0.228 [2.512 0.038] 0.147\n",
      "0.685 [2.969 0.038] -0.108\n",
      "1.599 [3.882 0.038] 0.635\n",
      "1.142 [3.425 0.038] 0.055\n"
     ]
    }
   ],
   "source": [
    "import numpy as np\n",
    "\n",
    "x0 = [2.283523, 0.03806]\n",
    "S0 = [1, 0]\n",
    "x = np.array([x0])\n",
    "S = np.array([S0])\n",
    "lambd = [0]\n",
    "\n",
    "delta =  0.1 * np.linalg.norm(x[0]) / np.linalg.norm(S[0]) \n",
    "print(\"delta\", delta)\n",
    "#delta = 0.5\n",
    "\n",
    "def f(lambdq):\n",
    "    t = x[0] + lambdq * S[0]\n",
    "    return (t[0] - 3) ** 2 - t[0] * t[1] + 3 * t[1] ** 2 \n",
    "\n",
    "if f(lambd[0] - delta) >= f(lambd[0]) >= f(lambd[0] + delta):\n",
    "    delta = delta\n",
    "    lambd.append(lambd[0] + delta)\n",
    "    print('case 1')\n",
    "elif f(lambd[0] - delta) <= f(lambd[0]) <= f(lambd[0] + delta):\n",
    "    delta = - delta\n",
    "    lambd.append(lambd[0] + delta)\n",
    "    print('case 2')\n",
    "elif f(lambd[0] - delta) >= f(lambd[0]) <= f(lambd[0] + delta):\n",
    "    a = lambd[0] - delta\n",
    "    b = lambd[0] + delta\n",
    "    #break\n",
    "    print('case 3')\n",
    "else:\n",
    "    print('Function is not unimodal')\n",
    "\n",
    "x = np.append(x, [x[0] + lambd[1] * S[0]], axis=0)\n",
    "\n",
    "\n",
    "i = 1\n",
    "while f(lambd[i]) <= f(lambd[i - 1]):\n",
    "    lambd.append(lambd[i] + (2 ** i) * delta)\n",
    "    x = np.append(x, [x[0] + lambd[i + 1] * S[0]], axis=0)\n",
    "    i += 1\n",
    "\n",
    "lambd.append(lambd[i - 1] + (lambd[i] - lambd[i - 1]) / 2)\n",
    "x = np.append(x, [x[0] + lambd[i + 1] * S[0]], axis=0)\n",
    "lambd1 = lambd\n",
    "for i in range(0, x.shape[0]):\n",
    "    print(np.round(lambd1[i],3), np.round(x[i],3), np.round(just_f(x[i]),3))"
   ]
  },
  {
   "cell_type": "code",
   "execution_count": 4,
   "metadata": {},
   "outputs": [
    {
     "data": {
      "text/plain": [
       "[0, 0.2284, 0.6852, 1.1419, 1.5987]"
      ]
     },
     "execution_count": 4,
     "metadata": {},
     "output_type": "execute_result"
    }
   ],
   "source": [
    "lambd_sorted = lambd\n",
    "lambd_sorted.sort()\n",
    "lambd_sorted = [round(i, 4) for i in lambd_sorted]\n",
    "lambd_sorted"
   ]
  },
  {
   "cell_type": "code",
   "execution_count": 5,
   "metadata": {},
   "outputs": [
    {
     "name": "stdout",
     "output_type": "stream",
     "text": [
      "[0.4307740969489997, 0.14696105934899967, -0.10766565585100002, 0.054958820349000265, 0.6349057051490004]\n"
     ]
    }
   ],
   "source": [
    "values = list(map(f, lambd_sorted))\n",
    "m = min(values)\n",
    "a = lambd_sorted[values.index(m) - 1]\n",
    "b = lambd_sorted[values.index(m) + 1]\n",
    "print(values)"
   ]
  },
  {
   "cell_type": "code",
   "execution_count": 6,
   "metadata": {},
   "outputs": [
    {
     "name": "stdout",
     "output_type": "stream",
     "text": [
      "Uncertainty interval: [ 0.2284 ; 1.1419 ]\n"
     ]
    }
   ],
   "source": [
    "print('Uncertainty interval: [' ,a,';' ,b, ']')"
   ]
  },
  {
   "cell_type": "code",
   "execution_count": null,
   "metadata": {},
   "outputs": [],
   "source": []
  }
 ],
 "metadata": {
  "kernelspec": {
   "display_name": "Python 3",
   "language": "python",
   "name": "python3"
  },
  "language_info": {
   "codemirror_mode": {
    "name": "ipython",
    "version": 3
   },
   "file_extension": ".py",
   "mimetype": "text/x-python",
   "name": "python",
   "nbconvert_exporter": "python",
   "pygments_lexer": "ipython3",
   "version": "3.6.4"
  }
 },
 "nbformat": 4,
 "nbformat_minor": 2
}
