{
 "cells": [
  {
   "cell_type": "code",
   "execution_count": 2,
   "metadata": {},
   "outputs": [],
   "source": [
    "import numpy as np"
   ]
  },
  {
   "cell_type": "code",
   "execution_count": 32,
   "metadata": {},
   "outputs": [
    {
     "name": "stdout",
     "output_type": "stream",
     "text": [
      "3.6487 13.3785 9.7298\n",
      "3.6487 8.5136 4.8649\n",
      "6.0812 8.5136 2.4325\n",
      "6.6893 7.9055 1.2162\n",
      "6.9933 7.6014 0.6081\n",
      "6.9933 7.2974 0.3041\n",
      "7.0693 7.2214 0.152\n",
      "7.1453 7.2214 0.076\n",
      "7.1453 7.1834 0.038\n",
      "7.1548 7.1739 0.019\n",
      "7.1596 7.1691 0.0095\n",
      "7.1644 7.1691 0.0048\n",
      "7.1655 7.1679 0.0024\n",
      "7.1661 7.1673 0.0012\n",
      "7.1664 7.167 0.0006\n"
     ]
    }
   ],
   "source": [
    "x0 = [-8.6, -8.6]\n",
    "S0 = [0, 1]\n",
    "x = np.array([x0])\n",
    "S = np.array([S0])\n",
    "#lambd = [0]\n",
    "\n",
    "def f(lambd):\n",
    "    t = x[0] + lambd * S[0]\n",
    "    return (t[0] - 3) ** 2 - t[0] * t[1] + 3 * t[1] ** 2 \n",
    "\n",
    "\n",
    "# Uncertainty interval was given at the previous step and has the left bound as \"a\" and the right bound as \"b\".\n",
    "\n",
    "a = 3.6487\n",
    "b = 13.3785\n",
    "epsilon = 0.001\n",
    "\n",
    "xm = (b + a) / 2\n",
    "L = b - a\n",
    "print(round(a,4),round(b,4), round(L,4))\n",
    "\n",
    "while L > epsilon:\n",
    "    x1 = a + L / 4\n",
    "    x2 = b - L / 4\n",
    "    if f(x1) <= f(xm):\n",
    "        b = xm\n",
    "        xm = x1\n",
    "\n",
    "    elif f(x1) >= f(xm):\n",
    "        if f(x2) <= f(xm):\n",
    "            a = xm\n",
    "            xm = x2\n",
    "        elif f(x2) >= f(xm):\n",
    "            a = x1\n",
    "            b = x2\n",
    "    L = b - a\n",
    "    print(round(a,4),round(b,4), round(L,4))"
   ]
  },
  {
   "cell_type": "code",
   "execution_count": 31,
   "metadata": {},
   "outputs": [
    {
     "data": {
      "text/plain": [
       "array([-8.6       , -1.43327417])"
      ]
     },
     "execution_count": 31,
     "metadata": {},
     "output_type": "execute_result"
    }
   ],
   "source": [
    "lambda_top = (a + b) / 2\n",
    "x = x[0] + lambda_top * S[0]\n",
    "x"
   ]
  },
  {
   "cell_type": "code",
   "execution_count": 33,
   "metadata": {},
   "outputs": [
    {
     "data": {
      "text/plain": [
       "7.166725830078125"
      ]
     },
     "execution_count": 33,
     "metadata": {},
     "output_type": "execute_result"
    }
   ],
   "source": [
    "lambda_top"
   ]
  },
  {
   "cell_type": "code",
   "execution_count": null,
   "metadata": {},
   "outputs": [],
   "source": []
  }
 ],
 "metadata": {
  "kernelspec": {
   "display_name": "Python 3",
   "language": "python",
   "name": "python3"
  },
  "language_info": {
   "codemirror_mode": {
    "name": "ipython",
    "version": 3
   },
   "file_extension": ".py",
   "mimetype": "text/x-python",
   "name": "python",
   "nbconvert_exporter": "python",
   "pygments_lexer": "ipython3",
   "version": "3.6.4"
  }
 },
 "nbformat": 4,
 "nbformat_minor": 2
}
