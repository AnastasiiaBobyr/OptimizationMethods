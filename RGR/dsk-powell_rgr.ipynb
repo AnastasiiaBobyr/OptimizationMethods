{
 "cells": [
  {
   "cell_type": "code",
   "execution_count": 11,
   "metadata": {},
   "outputs": [],
   "source": [
    "import numpy as np"
   ]
  },
  {
   "cell_type": "code",
   "execution_count": 69,
   "metadata": {},
   "outputs": [],
   "source": [
    "xq = [2.283523, -1.433]\n",
    "S0 = [0, 1]\n",
    "xq = np.array([x0])\n",
    "S = np.array([S0])\n",
    "\n",
    "\n",
    "def f(lambd):\n",
    "    t = xq[0] + lambd * S[0]\n",
    "    return (t[0] - 3) ** 2 - t[0] * t[1] + 3 * t[1] ** 2 \n",
    "\n",
    "a = 0.8088\n",
    "b = 2.9655"
   ]
  },
  {
   "cell_type": "code",
   "execution_count": 70,
   "metadata": {},
   "outputs": [],
   "source": [
    "x1 = a\n",
    "x2 = (a + b) / 2\n",
    "x3 = b\n",
    "x_star = x1  # just for getting rid of do...while loop"
   ]
  },
  {
   "cell_type": "code",
   "execution_count": 71,
   "metadata": {
    "scrolled": true
   },
   "outputs": [
    {
     "name": "stdout",
     "output_type": "stream",
     "text": [
      "0.8088 3.107591268129\n"
     ]
    }
   ],
   "source": [
    "print(x1, f(x1))"
   ]
  },
  {
   "cell_type": "code",
   "execution_count": 72,
   "metadata": {},
   "outputs": [
    {
     "name": "stdout",
     "output_type": "stream",
     "text": [
      "1.88715 0.0950339885789997\n"
     ]
    }
   ],
   "source": [
    "print(x2, f(x2))"
   ]
  },
  {
   "cell_type": "code",
   "execution_count": 73,
   "metadata": {
    "scrolled": true
   },
   "outputs": [
    {
     "name": "stdout",
     "output_type": "stream",
     "text": [
      "2.9655 4.059509044029\n"
     ]
    }
   ],
   "source": [
    "print(x3, f(x3))"
   ]
  },
  {
   "cell_type": "code",
   "execution_count": 74,
   "metadata": {},
   "outputs": [
    {
     "name": "stdout",
     "output_type": "stream",
     "text": [
      "1.8135871666666668 0.0787995172349163\n"
     ]
    }
   ],
   "source": [
    "x_star = x2 + (abs(x2 - x1) * (f(x1) - f(x3))) / (2 * (f(x1) - 2 * f(x2) + f(x3)))\n",
    "print(x_star, f(x_star))"
   ]
  },
  {
   "cell_type": "code",
   "execution_count": 75,
   "metadata": {},
   "outputs": [
    {
     "name": "stdout",
     "output_type": "stream",
     "text": [
      "[0.8088, 1.8135871666666668, 1.88715, 2.9655]\n",
      "[3.107591268129, 0.0787995172349163, 0.0950339885789997, 4.059509044029]\n"
     ]
    }
   ],
   "source": [
    "# do we have to build a new interval after this iteration? such as [x1; x3]. if not, delete the following rows\n",
    "x = [x1, x2, x_star, x3]\n",
    "x.sort()\n",
    "values = list(map(f, x))\n",
    "print(x)\n",
    "print(values)\n",
    "m = min(values)\n",
    "x1 = x[values.index(m) - 1]\n",
    "x2 = x[values.index(m)]\n",
    "x3 = x[values.index(m) + 1]"
   ]
  },
  {
   "cell_type": "code",
   "execution_count": 76,
   "metadata": {
    "scrolled": true
   },
   "outputs": [
    {
     "data": {
      "text/plain": [
       "0.8088"
      ]
     },
     "execution_count": 76,
     "metadata": {},
     "output_type": "execute_result"
    }
   ],
   "source": [
    "x1"
   ]
  },
  {
   "cell_type": "code",
   "execution_count": 77,
   "metadata": {},
   "outputs": [
    {
     "data": {
      "text/plain": [
       "1.8135871666666668"
      ]
     },
     "execution_count": 77,
     "metadata": {},
     "output_type": "execute_result"
    }
   ],
   "source": [
    "x2"
   ]
  },
  {
   "cell_type": "code",
   "execution_count": 78,
   "metadata": {},
   "outputs": [
    {
     "data": {
      "text/plain": [
       "1.88715"
      ]
     },
     "execution_count": 78,
     "metadata": {},
     "output_type": "execute_result"
    }
   ],
   "source": [
    "x3"
   ]
  },
  {
   "cell_type": "code",
   "execution_count": 79,
   "metadata": {},
   "outputs": [],
   "source": [
    "delta = 0.1\n",
    "epsilon = 0.01\n",
    "x_min = x2\n",
    "x_star = x_star\n",
    "\n",
    "while abs(x_min - x_star) >= epsilon and abs(f(x_min) - f(x_star)) >= epsilon:\n",
    "    x1 = x_star  # is the x_star the new primary dot?\n",
    "    x2 = x1 + delta\n",
    "    if f(x1) >= f(x2):\n",
    "        x3 = x1 + 2 * delta\n",
    "    else:\n",
    "        x3 = x1 - delta\n",
    "    x = [x1, x2, x3]\n",
    "    values = list(map(f, x))\n",
    "    m = min(values)\n",
    "    x_min = x[values.index(m)]\n",
    "\n",
    "    if abs(x3 - x2) == abs(x2 - x1):\n",
    "        x_star = x2 + (abs(x2 - x1) * (f(x1) - f(x3))) / (2 * (f(x1) - 2 * f(x2) + f(x3)))\n",
    "    else:\n",
    "        a1 = (f(x2) - f(x1)) / (x2 - x1)\n",
    "        a2 = (1 / (x3 - x2)) * ((f(x1) - f(x3)) / (x3 - x1) + (f(x2) - f(x1)) / (x2 - x1))\n",
    "        x_star = (x1 + x2) / 2 - a1 / (2 * a2)\n",
    "\n",
    "    x = [x1, x2, x_star, x3]\n",
    "    x.sort()\n",
    "    values = list(map(f, x))\n",
    "    m = min(values)\n",
    "    x1 = x[values.index(m) - 1]\n",
    "    x2 = x[values.index(m)]\n",
    "    x3 = x[values.index(m) + 1]\n",
    "    "
   ]
  },
  {
   "cell_type": "code",
   "execution_count": 81,
   "metadata": {},
   "outputs": [
    {
     "name": "stdout",
     "output_type": "stream",
     "text": [
      "0.8088 1.8136 1.8872 1.8136\n"
     ]
    }
   ],
   "source": [
    "print(round(x1, 4), round(x2, 4), round(x3, 4), round(x_star,4))"
   ]
  },
  {
   "cell_type": "code",
   "execution_count": 83,
   "metadata": {},
   "outputs": [
    {
     "data": {
      "text/plain": [
       "array([2.283523  , 0.38058717])"
      ]
     },
     "execution_count": 83,
     "metadata": {},
     "output_type": "execute_result"
    }
   ],
   "source": [
    "lambda_top = x_star\n",
    "x = xq[0] + lambda_top * S[0]\n",
    "x"
   ]
  },
  {
   "cell_type": "code",
   "execution_count": null,
   "metadata": {},
   "outputs": [],
   "source": []
  }
 ],
 "metadata": {
  "kernelspec": {
   "display_name": "Python 3",
   "language": "python",
   "name": "python3"
  },
  "language_info": {
   "codemirror_mode": {
    "name": "ipython",
    "version": 3
   },
   "file_extension": ".py",
   "mimetype": "text/x-python",
   "name": "python",
   "nbconvert_exporter": "python",
   "pygments_lexer": "ipython3",
   "version": "3.6.4"
  }
 },
 "nbformat": 4,
 "nbformat_minor": 2
}
