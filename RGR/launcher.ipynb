{
 "cells": [
  {
   "cell_type": "code",
   "execution_count": 91,
   "metadata": {},
   "outputs": [],
   "source": [
    "import numpy as np\n",
    "from onedimsearch import svenn\n",
    "from onedimsearch import golden_ratio\n",
    "from onedimsearch import dsk_powell\n",
    "from onedimsearch import dikhotomia"
   ]
  },
  {
   "cell_type": "code",
   "execution_count": 92,
   "metadata": {},
   "outputs": [],
   "source": [
    "x0 = [-8.6, -8.6]\n",
    "S0 = [0, 1]\n",
    "S1 = [1, 0]\n",
    "S2 = [0, 1]\n",
    "x = np.array([x0])\n",
    "S = np.array([S0, S1, S2])\n",
    "\n",
    "svenn_param = 0.1\n",
    "epsilon_onedim = 0.001\n",
    "\n",
    "def f(t):\n",
    "    return (t[0] - 3) ** 2 - t[0] * t[1] + 3 * t[1] ** 2 "
   ]
  },
  {
   "cell_type": "code",
   "execution_count": 93,
   "metadata": {},
   "outputs": [
    {
     "name": "stdout",
     "output_type": "stream",
     "text": [
      "Uncertanity interval: 3.648670990922585 , 13.378460300049479\n",
      "Lambda: 7.166692955477499\n",
      "x: [-8.6        -1.43330704]\n"
     ]
    }
   ],
   "source": [
    "a, b = svenn(f, x[0], S[0], svenn_param)\n",
    "l_new = dikhotomia(f, a, b, x[0], S[0], epsilon_onedim)\n",
    "x_new = x[0] + l_new * S[0]\n",
    "x = np.append(x, [x_new], axis=0)\n",
    "print(\"Uncertanity interval:\", a, \",\", b)\n",
    "print(\"Lambda:\", l_new)\n",
    "print(\"x:\", x_new)"
   ]
  },
  {
   "cell_type": "code",
   "execution_count": 94,
   "metadata": {},
   "outputs": [
    {
     "name": "stdout",
     "output_type": "stream",
     "text": [
      "Uncertanity interval: 6.1030353801284924 , 20.052830534707905\n",
      "Lambda: 10.883600536783057\n",
      "x: [ 2.28360054 -1.43330704]\n"
     ]
    }
   ],
   "source": [
    "a, b = svenn(f, x[1], S[1], svenn_param)\n",
    "l_new = golden_ratio(f, a, b, x[1], S[1], epsilon_onedim)\n",
    "x_new = x[1] + l_new * S[1]\n",
    "x = np.append(x, [x_new], axis=0)\n",
    "print(\"Uncertanity interval:\", a, \",\", b)\n",
    "print(\"Lambda:\", l_new)\n",
    "print(\"x:\", x_new)"
   ]
  },
  {
   "cell_type": "code",
   "execution_count": 95,
   "metadata": {},
   "outputs": [
    {
     "name": "stdout",
     "output_type": "stream",
     "text": [
      "Uncertanity interval: 0.8088436465675133 , 2.9657600374142152\n",
      "Lambda: 1.8139071339863437\n",
      "x: [2.28360054 0.38060009]\n"
     ]
    }
   ],
   "source": [
    "a, b = svenn(f, x[2], S[2], svenn_param)\n",
    "l_new = dsk_powell(f, a, b, x[2], S[2], epsilon_onedim)\n",
    "x_new = x[2] + l_new * S[2]\n",
    "x = np.append(x, [x_new], axis=0)\n",
    "print(\"Uncertanity interval:\", a, \",\", b)\n",
    "print(\"Lambda:\", l_new)\n",
    "print(\"x:\", x_new)"
   ]
  },
  {
   "cell_type": "code",
   "execution_count": 96,
   "metadata": {},
   "outputs": [
    {
     "name": "stdout",
     "output_type": "stream",
     "text": [
      "Uncertanity interval: 0.06294612036339982 , 0.14687428084793291\n",
      "Lambda: 0.09109059135294739\n",
      "x: [3.27499415 0.54582996]\n"
     ]
    }
   ],
   "source": [
    "S3 = x[3] - x[1]\n",
    "S = np.append(S, [S3], axis=0)\n",
    "a, b = svenn(f, x[3], S[3], svenn_param)\n",
    "l_new = golden_ratio(f, a, b, x[3], S[3], epsilon_onedim)\n",
    "x_new = x[3] + l_new * S[3]\n",
    "x = np.append(x, [x_new], axis=0)\n",
    "print(\"Uncertanity interval:\", a, \",\", b)\n",
    "print(\"Lambda:\", l_new)\n",
    "print(\"x:\", x_new)"
   ]
  }
 ],
 "metadata": {
  "kernelspec": {
   "display_name": "Python 3",
   "language": "python",
   "name": "python3"
  },
  "language_info": {
   "codemirror_mode": {
    "name": "ipython",
    "version": 3
   },
   "file_extension": ".py",
   "mimetype": "text/x-python",
   "name": "python",
   "nbconvert_exporter": "python",
   "pygments_lexer": "ipython3",
   "version": "3.6.4"
  }
 },
 "nbformat": 4,
 "nbformat_minor": 2
}
