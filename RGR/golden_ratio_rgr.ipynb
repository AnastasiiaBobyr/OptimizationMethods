{
 "cells": [
  {
   "cell_type": "code",
   "execution_count": 2,
   "metadata": {},
   "outputs": [],
   "source": [
    "import numpy as np"
   ]
  },
  {
   "cell_type": "code",
   "execution_count": 19,
   "metadata": {},
   "outputs": [
    {
     "name": "stdout",
     "output_type": "stream",
     "text": [
      "6.103 20.053 13.9497\n",
      "6.103 14.724 8.6209\n",
      "9.396 14.724 5.3277\n",
      "9.396 12.689 3.2925\n",
      "9.396 11.432 2.0356\n",
      "10.174 11.432 1.258\n",
      "10.654 11.432 0.7778\n",
      "10.654 11.135 0.4807\n",
      "10.654 10.951 0.2973\n",
      "10.768 10.951 0.1837\n",
      "10.838 10.951 0.1137\n",
      "10.838 10.908 0.0702\n",
      "10.864 10.908 0.0434\n",
      "10.864 10.891 0.0268\n",
      "10.875 10.891 0.0166\n",
      "10.881 10.891 0.0102\n",
      "10.881 10.887 0.0063\n",
      "10.881 10.885 0.0038\n",
      "10.883 10.885 0.0024\n",
      "10.883 10.884 0.0015\n",
      "10.883 10.884 0.0009\n"
     ]
    }
   ],
   "source": [
    "x0 = [-8.6, -1.433]\n",
    "S0 = [1, 0]\n",
    "x = np.array([x0])\n",
    "S = np.array([S0])\n",
    "\n",
    "def f(lambd):\n",
    "    t = x[0] + lambd * S[0]\n",
    "    return (t[0] - 3) ** 2 - t[0] * t[1] + 3 * t[1] ** 2 \n",
    "\n",
    "\n",
    "# Uncertainty interval was given at the previous step and has the left bound as \"a\" and the right bound as \"b\".\n",
    "a = 6.103\n",
    "b = 20.0527\n",
    "epsilon = 0.001\n",
    "\n",
    "L = b - a\n",
    "x1 = a + 0.382 * L\n",
    "x2 = a + 0.618 * L\n",
    "print(round(a,3),round(b,3), round(L,4))    \n",
    "while L >= epsilon:\n",
    "    if f(x1) <= f(x2):\n",
    "        a = a\n",
    "        b = x2\n",
    "        L = b - a\n",
    "        x2 = x1\n",
    "        x1 = a + 0.382 * L\n",
    "    elif f(x1) >= f(x2):\n",
    "        a = x1\n",
    "        b = b\n",
    "        L = b - a\n",
    "        x1 = x2\n",
    "        x2 = a + 0.618 * L\n",
    "    print(round(a,3),round(b,3), round(L,4))"
   ]
  },
  {
   "cell_type": "code",
   "execution_count": 18,
   "metadata": {},
   "outputs": [
    {
     "data": {
      "text/plain": [
       "array([ 2.28353255, -1.433     ])"
      ]
     },
     "execution_count": 18,
     "metadata": {},
     "output_type": "execute_result"
    }
   ],
   "source": [
    "lambda_top = (a + b) / 2\n",
    "x = x[0] + lambda_top * S[0]\n",
    "x"
   ]
  },
  {
   "cell_type": "code",
   "execution_count": null,
   "metadata": {},
   "outputs": [],
   "source": []
  }
 ],
 "metadata": {
  "kernelspec": {
   "display_name": "Python 3",
   "language": "python",
   "name": "python3"
  },
  "language_info": {
   "codemirror_mode": {
    "name": "ipython",
    "version": 3
   },
   "file_extension": ".py",
   "mimetype": "text/x-python",
   "name": "python",
   "nbconvert_exporter": "python",
   "pygments_lexer": "ipython3",
   "version": "3.6.4"
  }
 },
 "nbformat": 4,
 "nbformat_minor": 2
}
